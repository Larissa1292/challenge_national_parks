{
  "nbformat": 4,
  "nbformat_minor": 0,
  "metadata": {
    "kernelspec": {
      "display_name": "R",
      "language": "R",
      "name": "ir"
    },
    "language_info": {
      "codemirror_mode": "r",
      "file_extension": ".r",
      "mimetype": "text/x-r-source",
      "name": "R",
      "pygments_lexer": "r",
      "version": "3.3.1"
    },
    "colab": {
      "name": "national_parks.ipynb",
      "provenance": [],
      "collapsed_sections": [],
      "include_colab_link": true
    }
  },
  "cells": [
    {
      "cell_type": "markdown",
      "metadata": {
        "id": "view-in-github",
        "colab_type": "text"
      },
      "source": [
        "<a href=\"https://colab.research.google.com/github/Larissa1292/challenge_national_parks/blob/master/national_parks.ipynb\" target=\"_parent\"><img src=\"https://colab.research.google.com/assets/colab-badge.svg\" alt=\"Open In Colab\"/></a>"
      ]
    },
    {
      "cell_type": "markdown",
      "metadata": {
        "id": "wKxeA_0EXG-W",
        "colab_type": "text"
      },
      "source": [
        "Hoje iremos falar sobre um dos desafios do \"Tidytuesday\", onde iremos construir o primeiro gráfico do artigo base \"The National Parks Have Never Been More Popular\" do famoso site [fivethirtyeight](https://fivethirtyeight.com/features/the-national-parks-have-never-been-more-popular/).\n",
        "\n",
        "## Mas o que é o Tidytuesday?\n",
        "\n",
        "É um projeto de dados semanal bem interessante voltado para o ambiente R. Toda terça-feira é lançado um projeto e para a realização dele, é disponibilizado o data set referente a esse desafio. Esse projeto nasceu do 'R4DS Online Learning Community' e do 'R for Data Science', com o objetivo de aprender como resumir e organizar dados para fazer gráficos significativos com os pacotes \"ggplot2\", \"tidyr\", \"dplyr\" e outras ferramentas no ambiente tidyverse. Ao realizar um desafio, eles pedem para compartilhar o código usado para gerar os resultados."
      ]
    },
    {
      "cell_type": "markdown",
      "metadata": {
        "id": "_5ybu9QhcbVv",
        "colab_type": "text"
      },
      "source": [
        "## Iniciando\n",
        "\n",
        "Para dar início, precisamos instalar o pacote \"Tidyverse\" e para isso usamos o comando abaixo:"
      ]
    },
    {
      "cell_type": "code",
      "metadata": {
        "id": "ricuj9ijfN4M",
        "colab_type": "code",
        "colab": {}
      },
      "source": [
        "#install.packages(\"tidyverse\") #instalando o pacote Tidyverse"
      ],
      "execution_count": 0,
      "outputs": []
    },
    {
      "cell_type": "markdown",
      "metadata": {
        "id": "KJp1TMyec9yB",
        "colab_type": "text"
      },
      "source": [
        "Após instalar o pacote, precisamos carregá-lo para que possamos usar. Então utilizamos o comando \"require()\" para realizar essa função. Neste projeto, além do pacote \"tidyverse\", precisaremos do pacote \"scales\". "
      ]
    },
    {
      "cell_type": "code",
      "metadata": {
        "id": "1FTLjKlYfdcD",
        "colab_type": "code",
        "outputId": "7104830b-38db-4d10-c4c4-7235615f1460",
        "colab": {
          "base_uri": "https://localhost:8080/",
          "height": 395
        }
      },
      "source": [
        "require(tidyverse) #carregando o pacote Tidyverse\n",
        "require(scales) #carregando o pacote 'scales' para definir a escala do gráfico"
      ],
      "execution_count": 0,
      "outputs": [
        {
          "output_type": "stream",
          "text": [
            "Loading required package: tidyverse\n",
            "── \u001b[1mAttaching packages\u001b[22m ─────────────────────────────────────── tidyverse 1.2.1 ──\n",
            "\u001b[32m✔\u001b[39m \u001b[34mggplot2\u001b[39m 3.2.1     \u001b[32m✔\u001b[39m \u001b[34mpurrr  \u001b[39m 0.3.2\n",
            "\u001b[32m✔\u001b[39m \u001b[34mtibble \u001b[39m 2.1.3     \u001b[32m✔\u001b[39m \u001b[34mdplyr  \u001b[39m 0.8.3\n",
            "\u001b[32m✔\u001b[39m \u001b[34mtidyr  \u001b[39m 0.8.3     \u001b[32m✔\u001b[39m \u001b[34mstringr\u001b[39m 1.4.0\n",
            "\u001b[32m✔\u001b[39m \u001b[34mreadr  \u001b[39m 1.3.1     \u001b[32m✔\u001b[39m \u001b[34mforcats\u001b[39m 0.4.0\n",
            "── \u001b[1mConflicts\u001b[22m ────────────────────────────────────────── tidyverse_conflicts() ──\n",
            "\u001b[31m✖\u001b[39m \u001b[34mdplyr\u001b[39m::\u001b[32mfilter()\u001b[39m masks \u001b[34mstats\u001b[39m::filter()\n",
            "\u001b[31m✖\u001b[39m \u001b[34mdplyr\u001b[39m::\u001b[32mlag()\u001b[39m    masks \u001b[34mstats\u001b[39m::lag()\n",
            "Loading required package: scales\n",
            "\n",
            "Attaching package: ‘scales’\n",
            "\n",
            "The following object is masked from ‘package:purrr’:\n",
            "\n",
            "    discard\n",
            "\n",
            "The following object is masked from ‘package:readr’:\n",
            "\n",
            "    col_factor\n",
            "\n"
          ],
          "name": "stderr"
        }
      ]
    },
    {
      "cell_type": "markdown",
      "metadata": {
        "id": "JMiwEbynarNt",
        "colab_type": "text"
      },
      "source": [
        "## Lendo os bancos de dados que serão utilizados\n"
      ]
    },
    {
      "cell_type": "code",
      "metadata": {
        "id": "fUgimkCgYlGi",
        "colab_type": "code",
        "outputId": "3e59ac52-e1f5-4944-d4b9-c514b348391d",
        "colab": {
          "base_uri": "https://localhost:8080/",
          "height": 503
        }
      },
      "source": [
        "park_visits <- readr::read_csv(\"https://raw.githubusercontent.com/rfordatascience/tidytuesday/master/data/2019/2019-09-17/national_parks.csv\")\n",
        "state_pop <- readr::read_csv(\"https://raw.githubusercontent.com/rfordatascience/tidytuesday/master/data/2019/2019-09-17/state_pop.csv\")\n",
        "gas_price <- readr::read_csv(\"https://raw.githubusercontent.com/rfordatascience/tidytuesday/master/data/2019/2019-09-17/gas_price.csv\")"
      ],
      "execution_count": 0,
      "outputs": [
        {
          "output_type": "stream",
          "text": [
            "Parsed with column specification:\n",
            "cols(\n",
            "  year = \u001b[31mcol_character()\u001b[39m,\n",
            "  gnis_id = \u001b[31mcol_character()\u001b[39m,\n",
            "  geometry = \u001b[31mcol_character()\u001b[39m,\n",
            "  metadata = \u001b[31mcol_character()\u001b[39m,\n",
            "  number_of_records = \u001b[32mcol_double()\u001b[39m,\n",
            "  parkname = \u001b[31mcol_character()\u001b[39m,\n",
            "  region = \u001b[31mcol_character()\u001b[39m,\n",
            "  state = \u001b[31mcol_character()\u001b[39m,\n",
            "  unit_code = \u001b[31mcol_character()\u001b[39m,\n",
            "  unit_name = \u001b[31mcol_character()\u001b[39m,\n",
            "  unit_type = \u001b[31mcol_character()\u001b[39m,\n",
            "  visitors = \u001b[32mcol_double()\u001b[39m\n",
            ")\n",
            "Parsed with column specification:\n",
            "cols(\n",
            "  year = \u001b[32mcol_double()\u001b[39m,\n",
            "  state = \u001b[31mcol_character()\u001b[39m,\n",
            "  pop = \u001b[32mcol_double()\u001b[39m\n",
            ")\n",
            "Parsed with column specification:\n",
            "cols(\n",
            "  year = \u001b[32mcol_double()\u001b[39m,\n",
            "  gas_current = \u001b[32mcol_double()\u001b[39m,\n",
            "  gas_constant = \u001b[32mcol_double()\u001b[39m\n",
            ")\n"
          ],
          "name": "stderr"
        }
      ]
    },
    {
      "cell_type": "markdown",
      "metadata": {
        "id": "Bp5QWm00dlsW",
        "colab_type": "text"
      },
      "source": [
        "Como o data set é muito grande, podemos ter uma visualização rápida do início do data set usando a função \"head()\" ou do final do data set com a função \"tail()\"."
      ]
    },
    {
      "cell_type": "code",
      "metadata": {
        "id": "Oo0WZIDebQqh",
        "colab_type": "code",
        "outputId": "ad61d12a-1316-4f24-9d4c-5bcb577c827d",
        "colab": {
          "base_uri": "https://localhost:8080/",
          "height": 544
        }
      },
      "source": [
        "head(park_visits) #visualizando o início do dataset\n",
        "tail(park_visits) #visualizando o final do dataset"
      ],
      "execution_count": 0,
      "outputs": [
        {
          "output_type": "display_data",
          "data": {
            "text/plain": [
              "  year gnis_id geometry     metadata number_of_records parkname              \n",
              "1 1904 1163670 POLYGON      NA       1                 Crater Lake           \n",
              "2 1941 1531834 MULTIPOLYGON NA       1                 Lake Roosevelt        \n",
              "3 1961 2055170 MULTIPOLYGON NA       1                 Lewis and Clark       \n",
              "4 1935 1530459 MULTIPOLYGON NA       1                 Olympic               \n",
              "5 1982 277263  POLYGON      NA       1                 Santa Monica Mountains\n",
              "6 1919 578853  MULTIPOLYGON NA       1                 NA                    \n",
              "  region state unit_code unit_name                                      \n",
              "1 PW     OR    CRLA      Crater Lake National Park                      \n",
              "2 PW     WA    LARO      Lake Roosevelt National Recreation Area        \n",
              "3 PW     WA    LEWI      Lewis and Clark National Historical Park       \n",
              "4 PW     WA    OLYM      Olympic National Park                          \n",
              "5 PW     CA    SAMO      Santa Monica Mountains National Recreation Area\n",
              "6 NE     ME    ACAD      Acadia National Park                           \n",
              "  unit_type                visitors\n",
              "1 National Park              1500  \n",
              "2 National Recreation Area      0  \n",
              "3 National Historical Park  69000  \n",
              "4 National Park              2200  \n",
              "5 National Recreation Area 468144  \n",
              "6 National Park             64000  "
            ],
            "text/latex": "A tibble: 6 × 12\n\\begin{tabular}{r|llllllllllll}\n year & gnis\\_id & geometry & metadata & number\\_of\\_records & parkname & region & state & unit\\_code & unit\\_name & unit\\_type & visitors\\\\\n <chr> & <chr> & <chr> & <chr> & <dbl> & <chr> & <chr> & <chr> & <chr> & <chr> & <chr> & <dbl>\\\\\n\\hline\n\t 1904 & 1163670 & POLYGON      & NA & 1 & Crater Lake            & PW & OR & CRLA & Crater Lake National Park                       & National Park            &   1500\\\\\n\t 1941 & 1531834 & MULTIPOLYGON & NA & 1 & Lake Roosevelt         & PW & WA & LARO & Lake Roosevelt National Recreation Area         & National Recreation Area &      0\\\\\n\t 1961 & 2055170 & MULTIPOLYGON & NA & 1 & Lewis and Clark        & PW & WA & LEWI & Lewis and Clark National Historical Park        & National Historical Park &  69000\\\\\n\t 1935 & 1530459 & MULTIPOLYGON & NA & 1 & Olympic                & PW & WA & OLYM & Olympic National Park                           & National Park            &   2200\\\\\n\t 1982 & 277263  & POLYGON      & NA & 1 & Santa Monica Mountains & PW & CA & SAMO & Santa Monica Mountains National Recreation Area & National Recreation Area & 468144\\\\\n\t 1919 & 578853  & MULTIPOLYGON & NA & 1 & NA                     & NE & ME & ACAD & Acadia National Park                            & National Park            &  64000\\\\\n\\end{tabular}\n",
            "text/markdown": "\nA tibble: 6 × 12\n\n| year &lt;chr&gt; | gnis_id &lt;chr&gt; | geometry &lt;chr&gt; | metadata &lt;chr&gt; | number_of_records &lt;dbl&gt; | parkname &lt;chr&gt; | region &lt;chr&gt; | state &lt;chr&gt; | unit_code &lt;chr&gt; | unit_name &lt;chr&gt; | unit_type &lt;chr&gt; | visitors &lt;dbl&gt; |\n|---|---|---|---|---|---|---|---|---|---|---|---|\n| 1904 | 1163670 | POLYGON      | NA | 1 | Crater Lake            | PW | OR | CRLA | Crater Lake National Park                       | National Park            |   1500 |\n| 1941 | 1531834 | MULTIPOLYGON | NA | 1 | Lake Roosevelt         | PW | WA | LARO | Lake Roosevelt National Recreation Area         | National Recreation Area |      0 |\n| 1961 | 2055170 | MULTIPOLYGON | NA | 1 | Lewis and Clark        | PW | WA | LEWI | Lewis and Clark National Historical Park        | National Historical Park |  69000 |\n| 1935 | 1530459 | MULTIPOLYGON | NA | 1 | Olympic                | PW | WA | OLYM | Olympic National Park                           | National Park            |   2200 |\n| 1982 | 277263  | POLYGON      | NA | 1 | Santa Monica Mountains | PW | CA | SAMO | Santa Monica Mountains National Recreation Area | National Recreation Area | 468144 |\n| 1919 | 578853  | MULTIPOLYGON | NA | 1 | NA                     | NE | ME | ACAD | Acadia National Park                            | National Park            |  64000 |\n\n",
            "text/html": [
              "<table>\n",
              "<caption>A tibble: 6 × 12</caption>\n",
              "<thead>\n",
              "\t<tr><th scope=col>year</th><th scope=col>gnis_id</th><th scope=col>geometry</th><th scope=col>metadata</th><th scope=col>number_of_records</th><th scope=col>parkname</th><th scope=col>region</th><th scope=col>state</th><th scope=col>unit_code</th><th scope=col>unit_name</th><th scope=col>unit_type</th><th scope=col>visitors</th></tr>\n",
              "\t<tr><th scope=col>&lt;chr&gt;</th><th scope=col>&lt;chr&gt;</th><th scope=col>&lt;chr&gt;</th><th scope=col>&lt;chr&gt;</th><th scope=col>&lt;dbl&gt;</th><th scope=col>&lt;chr&gt;</th><th scope=col>&lt;chr&gt;</th><th scope=col>&lt;chr&gt;</th><th scope=col>&lt;chr&gt;</th><th scope=col>&lt;chr&gt;</th><th scope=col>&lt;chr&gt;</th><th scope=col>&lt;dbl&gt;</th></tr>\n",
              "</thead>\n",
              "<tbody>\n",
              "\t<tr><td>1904</td><td>1163670</td><td>POLYGON     </td><td>NA</td><td>1</td><td>Crater Lake           </td><td>PW</td><td>OR</td><td>CRLA</td><td>Crater Lake National Park                      </td><td>National Park           </td><td>  1500</td></tr>\n",
              "\t<tr><td>1941</td><td>1531834</td><td>MULTIPOLYGON</td><td>NA</td><td>1</td><td>Lake Roosevelt        </td><td>PW</td><td>WA</td><td>LARO</td><td>Lake Roosevelt National Recreation Area        </td><td>National Recreation Area</td><td>     0</td></tr>\n",
              "\t<tr><td>1961</td><td>2055170</td><td>MULTIPOLYGON</td><td>NA</td><td>1</td><td>Lewis and Clark       </td><td>PW</td><td>WA</td><td>LEWI</td><td>Lewis and Clark National Historical Park       </td><td>National Historical Park</td><td> 69000</td></tr>\n",
              "\t<tr><td>1935</td><td>1530459</td><td>MULTIPOLYGON</td><td>NA</td><td>1</td><td>Olympic               </td><td>PW</td><td>WA</td><td>OLYM</td><td>Olympic National Park                          </td><td>National Park           </td><td>  2200</td></tr>\n",
              "\t<tr><td>1982</td><td>277263 </td><td>POLYGON     </td><td>NA</td><td>1</td><td>Santa Monica Mountains</td><td>PW</td><td>CA</td><td>SAMO</td><td>Santa Monica Mountains National Recreation Area</td><td>National Recreation Area</td><td>468144</td></tr>\n",
              "\t<tr><td>1919</td><td>578853 </td><td>MULTIPOLYGON</td><td>NA</td><td>1</td><td>NA                    </td><td>NE</td><td>ME</td><td>ACAD</td><td>Acadia National Park                           </td><td>National Park           </td><td> 64000</td></tr>\n",
              "</tbody>\n",
              "</table>\n"
            ]
          },
          "metadata": {
            "tags": []
          }
        },
        {
          "output_type": "display_data",
          "data": {
            "text/plain": [
              "  year gnis_id geometry    \n",
              "1 1906 1263056 MULTIPOLYGON\n",
              "2 1905 1163670 POLYGON     \n",
              "3 1905 1609331 POLYGON     \n",
              "4 1905 255948  MULTIPOLYGON\n",
              "5 1905 1528416 MULTIPOLYGON\n",
              "6 1905 1263056 MULTIPOLYGON\n",
              "  metadata                                               number_of_records\n",
              "1 http://nrdata.nps.gov/programs/Lands/WICA_metadata.xml 1                \n",
              "2 NA                                                     1                \n",
              "3 http://nrdata.nps.gov/programs/Lands/YELL_metadata.xml 1                \n",
              "4 http://nrdata.nps.gov/programs/Lands/KICA_metadata.xml 1                \n",
              "5 http://nrdata.nps.gov/programs/Lands/MORA_metadata.xml 1                \n",
              "6 http://nrdata.nps.gov/programs/Lands/WICA_metadata.xml 1                \n",
              "  parkname      region state unit_code unit_name                  \n",
              "1 Wind Cave     MW     SD    WICA      Wind Cave National Park    \n",
              "2 Crater Lake   PW     OR    CRLA      Crater Lake National Park  \n",
              "3 Yellowstone   IM     WY    YELL      Yellowstone National Park  \n",
              "4 Kings Canyon  PW     CA    KICA      Kings Canyon National Park \n",
              "5 Mount Rainier PW     WA    MORA      Mount Rainier National Park\n",
              "6 Wind Cave     MW     SD    WICA      Wind Cave National Park    \n",
              "  unit_type     visitors\n",
              "1 National Park  2787   \n",
              "2 National Park  1400   \n",
              "3 National Park 26188   \n",
              "4 National Park  1000   \n",
              "5 National Park   928   \n",
              "6 National Park  2438   "
            ],
            "text/latex": "A tibble: 6 × 12\n\\begin{tabular}{r|llllllllllll}\n year & gnis\\_id & geometry & metadata & number\\_of\\_records & parkname & region & state & unit\\_code & unit\\_name & unit\\_type & visitors\\\\\n <chr> & <chr> & <chr> & <chr> & <dbl> & <chr> & <chr> & <chr> & <chr> & <chr> & <chr> & <dbl>\\\\\n\\hline\n\t 1906 & 1263056 & MULTIPOLYGON & http://nrdata.nps.gov/programs/Lands/WICA\\_metadata.xml & 1 & Wind Cave     & MW & SD & WICA & Wind Cave National Park     & National Park &  2787\\\\\n\t 1905 & 1163670 & POLYGON      & NA                                                     & 1 & Crater Lake   & PW & OR & CRLA & Crater Lake National Park   & National Park &  1400\\\\\n\t 1905 & 1609331 & POLYGON      & http://nrdata.nps.gov/programs/Lands/YELL\\_metadata.xml & 1 & Yellowstone   & IM & WY & YELL & Yellowstone National Park   & National Park & 26188\\\\\n\t 1905 & 255948  & MULTIPOLYGON & http://nrdata.nps.gov/programs/Lands/KICA\\_metadata.xml & 1 & Kings Canyon  & PW & CA & KICA & Kings Canyon National Park  & National Park &  1000\\\\\n\t 1905 & 1528416 & MULTIPOLYGON & http://nrdata.nps.gov/programs/Lands/MORA\\_metadata.xml & 1 & Mount Rainier & PW & WA & MORA & Mount Rainier National Park & National Park &   928\\\\\n\t 1905 & 1263056 & MULTIPOLYGON & http://nrdata.nps.gov/programs/Lands/WICA\\_metadata.xml & 1 & Wind Cave     & MW & SD & WICA & Wind Cave National Park     & National Park &  2438\\\\\n\\end{tabular}\n",
            "text/markdown": "\nA tibble: 6 × 12\n\n| year &lt;chr&gt; | gnis_id &lt;chr&gt; | geometry &lt;chr&gt; | metadata &lt;chr&gt; | number_of_records &lt;dbl&gt; | parkname &lt;chr&gt; | region &lt;chr&gt; | state &lt;chr&gt; | unit_code &lt;chr&gt; | unit_name &lt;chr&gt; | unit_type &lt;chr&gt; | visitors &lt;dbl&gt; |\n|---|---|---|---|---|---|---|---|---|---|---|---|\n| 1906 | 1263056 | MULTIPOLYGON | http://nrdata.nps.gov/programs/Lands/WICA_metadata.xml | 1 | Wind Cave     | MW | SD | WICA | Wind Cave National Park     | National Park |  2787 |\n| 1905 | 1163670 | POLYGON      | NA                                                     | 1 | Crater Lake   | PW | OR | CRLA | Crater Lake National Park   | National Park |  1400 |\n| 1905 | 1609331 | POLYGON      | http://nrdata.nps.gov/programs/Lands/YELL_metadata.xml | 1 | Yellowstone   | IM | WY | YELL | Yellowstone National Park   | National Park | 26188 |\n| 1905 | 255948  | MULTIPOLYGON | http://nrdata.nps.gov/programs/Lands/KICA_metadata.xml | 1 | Kings Canyon  | PW | CA | KICA | Kings Canyon National Park  | National Park |  1000 |\n| 1905 | 1528416 | MULTIPOLYGON | http://nrdata.nps.gov/programs/Lands/MORA_metadata.xml | 1 | Mount Rainier | PW | WA | MORA | Mount Rainier National Park | National Park |   928 |\n| 1905 | 1263056 | MULTIPOLYGON | http://nrdata.nps.gov/programs/Lands/WICA_metadata.xml | 1 | Wind Cave     | MW | SD | WICA | Wind Cave National Park     | National Park |  2438 |\n\n",
            "text/html": [
              "<table>\n",
              "<caption>A tibble: 6 × 12</caption>\n",
              "<thead>\n",
              "\t<tr><th scope=col>year</th><th scope=col>gnis_id</th><th scope=col>geometry</th><th scope=col>metadata</th><th scope=col>number_of_records</th><th scope=col>parkname</th><th scope=col>region</th><th scope=col>state</th><th scope=col>unit_code</th><th scope=col>unit_name</th><th scope=col>unit_type</th><th scope=col>visitors</th></tr>\n",
              "\t<tr><th scope=col>&lt;chr&gt;</th><th scope=col>&lt;chr&gt;</th><th scope=col>&lt;chr&gt;</th><th scope=col>&lt;chr&gt;</th><th scope=col>&lt;dbl&gt;</th><th scope=col>&lt;chr&gt;</th><th scope=col>&lt;chr&gt;</th><th scope=col>&lt;chr&gt;</th><th scope=col>&lt;chr&gt;</th><th scope=col>&lt;chr&gt;</th><th scope=col>&lt;chr&gt;</th><th scope=col>&lt;dbl&gt;</th></tr>\n",
              "</thead>\n",
              "<tbody>\n",
              "\t<tr><td>1906</td><td>1263056</td><td>MULTIPOLYGON</td><td>http://nrdata.nps.gov/programs/Lands/WICA_metadata.xml</td><td>1</td><td>Wind Cave    </td><td>MW</td><td>SD</td><td>WICA</td><td>Wind Cave National Park    </td><td>National Park</td><td> 2787</td></tr>\n",
              "\t<tr><td>1905</td><td>1163670</td><td>POLYGON     </td><td>NA                                                    </td><td>1</td><td>Crater Lake  </td><td>PW</td><td>OR</td><td>CRLA</td><td>Crater Lake National Park  </td><td>National Park</td><td> 1400</td></tr>\n",
              "\t<tr><td>1905</td><td>1609331</td><td>POLYGON     </td><td>http://nrdata.nps.gov/programs/Lands/YELL_metadata.xml</td><td>1</td><td>Yellowstone  </td><td>IM</td><td>WY</td><td>YELL</td><td>Yellowstone National Park  </td><td>National Park</td><td>26188</td></tr>\n",
              "\t<tr><td>1905</td><td>255948 </td><td>MULTIPOLYGON</td><td>http://nrdata.nps.gov/programs/Lands/KICA_metadata.xml</td><td>1</td><td>Kings Canyon </td><td>PW</td><td>CA</td><td>KICA</td><td>Kings Canyon National Park </td><td>National Park</td><td> 1000</td></tr>\n",
              "\t<tr><td>1905</td><td>1528416</td><td>MULTIPOLYGON</td><td>http://nrdata.nps.gov/programs/Lands/MORA_metadata.xml</td><td>1</td><td>Mount Rainier</td><td>PW</td><td>WA</td><td>MORA</td><td>Mount Rainier National Park</td><td>National Park</td><td>  928</td></tr>\n",
              "\t<tr><td>1905</td><td>1263056</td><td>MULTIPOLYGON</td><td>http://nrdata.nps.gov/programs/Lands/WICA_metadata.xml</td><td>1</td><td>Wind Cave    </td><td>MW</td><td>SD</td><td>WICA</td><td>Wind Cave National Park    </td><td>National Park</td><td> 2438</td></tr>\n",
              "</tbody>\n",
              "</table>\n"
            ]
          },
          "metadata": {
            "tags": []
          }
        }
      ]
    },
    {
      "cell_type": "code",
      "metadata": {
        "id": "mXiZGkBsAU9a",
        "colab_type": "code",
        "outputId": "7b979941-02f3-47b9-dcae-45be8b31e5a7",
        "colab": {
          "base_uri": "https://localhost:8080/",
          "height": 555
        }
      },
      "source": [
        "unique(park_visits$unit_type)\n",
        "# unique(park_visits$unit_name)"
      ],
      "execution_count": 0,
      "outputs": [
        {
          "output_type": "display_data",
          "data": {
            "text/plain": [
              " [1] \"National Park\"                        \n",
              " [2] \"National Recreation Area\"             \n",
              " [3] \"National Historical Park\"             \n",
              " [4] \"National Seashore\"                    \n",
              " [5] \"National Preserve\"                    \n",
              " [6] \"National River and Recreation Area\"   \n",
              " [7] \"Parkway\"                              \n",
              " [8] \"National Scenic River\"                \n",
              " [9] \"National Military Park\"               \n",
              "[10] \"National Monument\"                    \n",
              "[11] \"National Historic Site\"               \n",
              "[12] \"National Recreation River\"            \n",
              "[13] \"National River\"                       \n",
              "[14] \"Wild and Scenic River\"                \n",
              "[15] \"Park\"                                 \n",
              "[16] \"National Battlefield\"                 \n",
              "[17] \"National Lakeshore\"                   \n",
              "[18] \"Ecological and Historic Preserve\"     \n",
              "[19] \"National Battlefield Park\"            \n",
              "[20] \"National Memorial\"                    \n",
              "[21] \"Other Designation\"                    \n",
              "[22] \"National Battlefield Site\"            \n",
              "[23] \"National Parkway\"                     \n",
              "[24] \"National Historical Park and Preserve\"\n",
              "[25] \"National Reserve\"                     \n",
              "[26] \"National Scenic Riverway\"             \n",
              "[27] \"War in the Pacific\"                   \n",
              "[28] \"Scenic and Recreational River\"        \n",
              "[29] \"International Historic Site\"          \n",
              "[30] \"Valles Caldera National Preserve\"     "
            ],
            "text/latex": "\\begin{enumerate*}\n\\item 'National Park'\n\\item 'National Recreation Area'\n\\item 'National Historical Park'\n\\item 'National Seashore'\n\\item 'National Preserve'\n\\item 'National River and Recreation Area'\n\\item 'Parkway'\n\\item 'National Scenic River'\n\\item 'National Military Park'\n\\item 'National Monument'\n\\item 'National Historic Site'\n\\item 'National Recreation River'\n\\item 'National River'\n\\item 'Wild and Scenic River'\n\\item 'Park'\n\\item 'National Battlefield'\n\\item 'National Lakeshore'\n\\item 'Ecological and Historic Preserve'\n\\item 'National Battlefield Park'\n\\item 'National Memorial'\n\\item 'Other Designation'\n\\item 'National Battlefield Site'\n\\item 'National Parkway'\n\\item 'National Historical Park and Preserve'\n\\item 'National Reserve'\n\\item 'National Scenic Riverway'\n\\item 'War in the Pacific'\n\\item 'Scenic and Recreational River'\n\\item 'International Historic Site'\n\\item 'Valles Caldera National Preserve'\n\\end{enumerate*}\n",
            "text/markdown": "1. 'National Park'\n2. 'National Recreation Area'\n3. 'National Historical Park'\n4. 'National Seashore'\n5. 'National Preserve'\n6. 'National River and Recreation Area'\n7. 'Parkway'\n8. 'National Scenic River'\n9. 'National Military Park'\n10. 'National Monument'\n11. 'National Historic Site'\n12. 'National Recreation River'\n13. 'National River'\n14. 'Wild and Scenic River'\n15. 'Park'\n16. 'National Battlefield'\n17. 'National Lakeshore'\n18. 'Ecological and Historic Preserve'\n19. 'National Battlefield Park'\n20. 'National Memorial'\n21. 'Other Designation'\n22. 'National Battlefield Site'\n23. 'National Parkway'\n24. 'National Historical Park and Preserve'\n25. 'National Reserve'\n26. 'National Scenic Riverway'\n27. 'War in the Pacific'\n28. 'Scenic and Recreational River'\n29. 'International Historic Site'\n30. 'Valles Caldera National Preserve'\n\n\n",
            "text/html": [
              "<ol class=list-inline>\n",
              "\t<li>'National Park'</li>\n",
              "\t<li>'National Recreation Area'</li>\n",
              "\t<li>'National Historical Park'</li>\n",
              "\t<li>'National Seashore'</li>\n",
              "\t<li>'National Preserve'</li>\n",
              "\t<li>'National River and Recreation Area'</li>\n",
              "\t<li>'Parkway'</li>\n",
              "\t<li>'National Scenic River'</li>\n",
              "\t<li>'National Military Park'</li>\n",
              "\t<li>'National Monument'</li>\n",
              "\t<li>'National Historic Site'</li>\n",
              "\t<li>'National Recreation River'</li>\n",
              "\t<li>'National River'</li>\n",
              "\t<li>'Wild and Scenic River'</li>\n",
              "\t<li>'Park'</li>\n",
              "\t<li>'National Battlefield'</li>\n",
              "\t<li>'National Lakeshore'</li>\n",
              "\t<li>'Ecological and Historic Preserve'</li>\n",
              "\t<li>'National Battlefield Park'</li>\n",
              "\t<li>'National Memorial'</li>\n",
              "\t<li>'Other Designation'</li>\n",
              "\t<li>'National Battlefield Site'</li>\n",
              "\t<li>'National Parkway'</li>\n",
              "\t<li>'National Historical Park and Preserve'</li>\n",
              "\t<li>'National Reserve'</li>\n",
              "\t<li>'National Scenic Riverway'</li>\n",
              "\t<li>'War in the Pacific'</li>\n",
              "\t<li>'Scenic and Recreational River'</li>\n",
              "\t<li>'International Historic Site'</li>\n",
              "\t<li>'Valles Caldera National Preserve'</li>\n",
              "</ol>\n"
            ]
          },
          "metadata": {
            "tags": []
          }
        }
      ]
    },
    {
      "cell_type": "code",
      "metadata": {
        "id": "t9bXNThfbdC1",
        "colab_type": "code",
        "outputId": "2a1fb3f0-b317-48b6-92da-444c530f5418",
        "colab": {
          "base_uri": "https://localhost:8080/",
          "height": 204
        }
      },
      "source": [
        "head(state_pop) #visualizando o início do dataset"
      ],
      "execution_count": 0,
      "outputs": [
        {
          "output_type": "display_data",
          "data": {
            "text/plain": [
              "  year state pop    \n",
              "1 1900 AL    1830000\n",
              "2 1901 AL    1907000\n",
              "3 1902 AL    1935000\n",
              "4 1903 AL    1957000\n",
              "5 1904 AL    1978000\n",
              "6 1905 AL    2012000"
            ],
            "text/latex": "A tibble: 6 × 3\n\\begin{tabular}{r|lll}\n year & state & pop\\\\\n <dbl> & <chr> & <dbl>\\\\\n\\hline\n\t 1900 & AL & 1830000\\\\\n\t 1901 & AL & 1907000\\\\\n\t 1902 & AL & 1935000\\\\\n\t 1903 & AL & 1957000\\\\\n\t 1904 & AL & 1978000\\\\\n\t 1905 & AL & 2012000\\\\\n\\end{tabular}\n",
            "text/markdown": "\nA tibble: 6 × 3\n\n| year &lt;dbl&gt; | state &lt;chr&gt; | pop &lt;dbl&gt; |\n|---|---|---|\n| 1900 | AL | 1830000 |\n| 1901 | AL | 1907000 |\n| 1902 | AL | 1935000 |\n| 1903 | AL | 1957000 |\n| 1904 | AL | 1978000 |\n| 1905 | AL | 2012000 |\n\n",
            "text/html": [
              "<table>\n",
              "<caption>A tibble: 6 × 3</caption>\n",
              "<thead>\n",
              "\t<tr><th scope=col>year</th><th scope=col>state</th><th scope=col>pop</th></tr>\n",
              "\t<tr><th scope=col>&lt;dbl&gt;</th><th scope=col>&lt;chr&gt;</th><th scope=col>&lt;dbl&gt;</th></tr>\n",
              "</thead>\n",
              "<tbody>\n",
              "\t<tr><td>1900</td><td>AL</td><td>1830000</td></tr>\n",
              "\t<tr><td>1901</td><td>AL</td><td>1907000</td></tr>\n",
              "\t<tr><td>1902</td><td>AL</td><td>1935000</td></tr>\n",
              "\t<tr><td>1903</td><td>AL</td><td>1957000</td></tr>\n",
              "\t<tr><td>1904</td><td>AL</td><td>1978000</td></tr>\n",
              "\t<tr><td>1905</td><td>AL</td><td>2012000</td></tr>\n",
              "</tbody>\n",
              "</table>\n"
            ]
          },
          "metadata": {
            "tags": []
          }
        }
      ]
    },
    {
      "cell_type": "code",
      "metadata": {
        "id": "cSFa9zUUbm61",
        "colab_type": "code",
        "outputId": "7205aa16-5c77-4486-9e21-f85df89d1e72",
        "colab": {
          "base_uri": "https://localhost:8080/",
          "height": 204
        }
      },
      "source": [
        "head(gas_price) #visualizando o início do dataset"
      ],
      "execution_count": 0,
      "outputs": [
        {
          "output_type": "display_data",
          "data": {
            "text/plain": [
              "  year gas_current gas_constant\n",
              "1 1929 0.21        2.38        \n",
              "2 1930 0.20        2.30        \n",
              "3 1931 0.17        2.18        \n",
              "4 1932 0.18        2.61        \n",
              "5 1933 0.18        2.66        \n",
              "6 1934 0.19        2.67        "
            ],
            "text/latex": "A tibble: 6 × 3\n\\begin{tabular}{r|lll}\n year & gas\\_current & gas\\_constant\\\\\n <dbl> & <dbl> & <dbl>\\\\\n\\hline\n\t 1929 & 0.21 & 2.38\\\\\n\t 1930 & 0.20 & 2.30\\\\\n\t 1931 & 0.17 & 2.18\\\\\n\t 1932 & 0.18 & 2.61\\\\\n\t 1933 & 0.18 & 2.66\\\\\n\t 1934 & 0.19 & 2.67\\\\\n\\end{tabular}\n",
            "text/markdown": "\nA tibble: 6 × 3\n\n| year &lt;dbl&gt; | gas_current &lt;dbl&gt; | gas_constant &lt;dbl&gt; |\n|---|---|---|\n| 1929 | 0.21 | 2.38 |\n| 1930 | 0.20 | 2.30 |\n| 1931 | 0.17 | 2.18 |\n| 1932 | 0.18 | 2.61 |\n| 1933 | 0.18 | 2.66 |\n| 1934 | 0.19 | 2.67 |\n\n",
            "text/html": [
              "<table>\n",
              "<caption>A tibble: 6 × 3</caption>\n",
              "<thead>\n",
              "\t<tr><th scope=col>year</th><th scope=col>gas_current</th><th scope=col>gas_constant</th></tr>\n",
              "\t<tr><th scope=col>&lt;dbl&gt;</th><th scope=col>&lt;dbl&gt;</th><th scope=col>&lt;dbl&gt;</th></tr>\n",
              "</thead>\n",
              "<tbody>\n",
              "\t<tr><td>1929</td><td>0.21</td><td>2.38</td></tr>\n",
              "\t<tr><td>1930</td><td>0.20</td><td>2.30</td></tr>\n",
              "\t<tr><td>1931</td><td>0.17</td><td>2.18</td></tr>\n",
              "\t<tr><td>1932</td><td>0.18</td><td>2.61</td></tr>\n",
              "\t<tr><td>1933</td><td>0.18</td><td>2.66</td></tr>\n",
              "\t<tr><td>1934</td><td>0.19</td><td>2.67</td></tr>\n",
              "</tbody>\n",
              "</table>\n"
            ]
          },
          "metadata": {
            "tags": []
          }
        }
      ]
    },
    {
      "cell_type": "markdown",
      "metadata": {
        "id": "Qp94G55eaYB3",
        "colab_type": "text"
      },
      "source": [
        "### OBS: Ao chamar o pacote \"tidyverse\", já teremos disponíveis os dois pacotes que iremos utilizar: dplyr e ggplot2. O pacote \"dplyr\" é voltado para manipulação dos dados e o pacote \"ggplot2\" é voltado para criar gráficos."
      ]
    },
    {
      "cell_type": "markdown",
      "metadata": {
        "id": "P6zYqPiwgEqy",
        "colab_type": "text"
      },
      "source": [
        "## Vamos criar um gráfico para visualizar o número de visitas nos parques, por ano.\n",
        "\n"
      ]
    },
    {
      "cell_type": "markdown",
      "metadata": {
        "id": "WOjO2AashyHI",
        "colab_type": "text"
      },
      "source": [
        "#### Primeiro precisamos selecionar as variáveis de interesse. Para isso, vamos selecionar as var. \"year\" e \"visitors\"; depois iremos calcular o número total de visitantes por ano.\n",
        "\n",
        "Aqui utilizaremos algumas das funções mais importantes do pacote dplyr, que foi explicado no post... e iremos armazenar o resultado em um novo data set chamado 'visitors_year'."
      ]
    },
    {
      "cell_type": "code",
      "metadata": {
        "id": "Skj54TyefiI_",
        "colab_type": "code",
        "colab": {}
      },
      "source": [
        "visitors_year <- park_visits %>%\n",
        "                    select(year, visitors) %>%\n",
        "                    group_by(year) %>%\n",
        "                    summarise(total_visit = sum(visitors, na.rm = TRUE))"
      ],
      "execution_count": 0,
      "outputs": []
    },
    {
      "cell_type": "code",
      "metadata": {
        "id": "KJR7Oy-ehjtH",
        "colab_type": "code",
        "outputId": "c33c0462-32f5-43be-9f31-57d1e89d1172",
        "colab": {
          "base_uri": "https://localhost:8080/",
          "height": 204
        }
      },
      "source": [
        "head(visitors_year)"
      ],
      "execution_count": 0,
      "outputs": [
        {
          "output_type": "display_data",
          "data": {
            "text/plain": [
              "  year total_visit\n",
              "1 1904 120690     \n",
              "2 1905 140954     \n",
              "3 1906  30569     \n",
              "4 1907  32935     \n",
              "5 1908  42768     \n",
              "6 1909  60899     "
            ],
            "text/latex": "A tibble: 6 × 2\n\\begin{tabular}{r|ll}\n year & total\\_visit\\\\\n <chr> & <dbl>\\\\\n\\hline\n\t 1904 & 120690\\\\\n\t 1905 & 140954\\\\\n\t 1906 &  30569\\\\\n\t 1907 &  32935\\\\\n\t 1908 &  42768\\\\\n\t 1909 &  60899\\\\\n\\end{tabular}\n",
            "text/markdown": "\nA tibble: 6 × 2\n\n| year &lt;chr&gt; | total_visit &lt;dbl&gt; |\n|---|---|\n| 1904 | 120690 |\n| 1905 | 140954 |\n| 1906 |  30569 |\n| 1907 |  32935 |\n| 1908 |  42768 |\n| 1909 |  60899 |\n\n",
            "text/html": [
              "<table>\n",
              "<caption>A tibble: 6 × 2</caption>\n",
              "<thead>\n",
              "\t<tr><th scope=col>year</th><th scope=col>total_visit</th></tr>\n",
              "\t<tr><th scope=col>&lt;chr&gt;</th><th scope=col>&lt;dbl&gt;</th></tr>\n",
              "</thead>\n",
              "<tbody>\n",
              "\t<tr><td>1904</td><td>120690</td></tr>\n",
              "\t<tr><td>1905</td><td>140954</td></tr>\n",
              "\t<tr><td>1906</td><td> 30569</td></tr>\n",
              "\t<tr><td>1907</td><td> 32935</td></tr>\n",
              "\t<tr><td>1908</td><td> 42768</td></tr>\n",
              "\t<tr><td>1909</td><td> 60899</td></tr>\n",
              "</tbody>\n",
              "</table>\n"
            ]
          },
          "metadata": {
            "tags": []
          }
        }
      ]
    },
    {
      "cell_type": "code",
      "metadata": {
        "id": "r07dWMXhkLJ8",
        "colab_type": "code",
        "outputId": "ba0b4dc1-4c91-4426-ad4f-2972f396a987",
        "colab": {
          "base_uri": "https://localhost:8080/",
          "height": 89
        }
      },
      "source": [
        "glimpse(visitors_year) #visualizando o tipo das variáveis"
      ],
      "execution_count": 0,
      "outputs": [
        {
          "output_type": "stream",
          "text": [
            "Observations: 114\n",
            "Variables: 2\n",
            "$ year        \u001b[3m\u001b[90m<chr>\u001b[39m\u001b[23m \"1904\", \"1905\", \"1906\", \"1907\", \"1908\", \"1909\", \"1910\", \"…\n",
            "$ total_visit \u001b[3m\u001b[90m<dbl>\u001b[39m\u001b[23m 120690, 140954, 30569, 32935, 42768, 60899, 173416, 19420…\n"
          ],
          "name": "stdout"
        }
      ]
    },
    {
      "cell_type": "markdown",
      "metadata": {
        "id": "DFN5oaxrim8J",
        "colab_type": "text"
      },
      "source": [
        "#### Agora iremos plotar o gráfico, a partir do novo dataset \"visitors_year\":"
      ]
    },
    {
      "cell_type": "code",
      "metadata": {
        "id": "waetnjZFikc9",
        "colab_type": "code",
        "outputId": "b59d7f41-2684-4a89-e094-1a3d979775c9",
        "colab": {
          "base_uri": "https://localhost:8080/",
          "height": 857
        }
      },
      "source": [
        "ggplot(visitors_year, aes(x = year, y = total_visit)) +\n",
        "  geom_point()"
      ],
      "execution_count": 0,
      "outputs": [
        {
          "output_type": "display_data",
          "data": {
            "image/png": "[encoded data removed]",
            "text/plain": [
              "plot without title"
            ]
          },
          "metadata": {
            "tags": []
          }
        }
      ]
    },
    {
      "cell_type": "code",
      "metadata": {
        "id": "0Z7f-Wo4k4P6",
        "colab_type": "code",
        "colab": {}
      },
      "source": [
        "visitors_year <- visitors_year %>% ungroup() #armazenando as observações desagrupadas"
      ],
      "execution_count": 0,
      "outputs": []
    },
    {
      "cell_type": "code",
      "metadata": {
        "id": "TZJMHMJkfTcw",
        "colab_type": "code",
        "outputId": "63a25ca1-a707-42b7-cfb7-a8ed72e23c45",
        "colab": {
          "base_uri": "https://localhost:8080/",
          "height": 204
        }
      },
      "source": [
        "head(visitors_year)"
      ],
      "execution_count": 0,
      "outputs": [
        {
          "output_type": "display_data",
          "data": {
            "text/plain": [
              "  year total_visit\n",
              "1 1904 120690     \n",
              "2 1905 140954     \n",
              "3 1906  30569     \n",
              "4 1907  32935     \n",
              "5 1908  42768     \n",
              "6 1909  60899     "
            ],
            "text/latex": "A tibble: 6 × 2\n\\begin{tabular}{r|ll}\n year & total\\_visit\\\\\n <chr> & <dbl>\\\\\n\\hline\n\t 1904 & 120690\\\\\n\t 1905 & 140954\\\\\n\t 1906 &  30569\\\\\n\t 1907 &  32935\\\\\n\t 1908 &  42768\\\\\n\t 1909 &  60899\\\\\n\\end{tabular}\n",
            "text/markdown": "\nA tibble: 6 × 2\n\n| year &lt;chr&gt; | total_visit &lt;dbl&gt; |\n|---|---|\n| 1904 | 120690 |\n| 1905 | 140954 |\n| 1906 |  30569 |\n| 1907 |  32935 |\n| 1908 |  42768 |\n| 1909 |  60899 |\n\n",
            "text/html": [
              "<table>\n",
              "<caption>A tibble: 6 × 2</caption>\n",
              "<thead>\n",
              "\t<tr><th scope=col>year</th><th scope=col>total_visit</th></tr>\n",
              "\t<tr><th scope=col>&lt;chr&gt;</th><th scope=col>&lt;dbl&gt;</th></tr>\n",
              "</thead>\n",
              "<tbody>\n",
              "\t<tr><td>1904</td><td>120690</td></tr>\n",
              "\t<tr><td>1905</td><td>140954</td></tr>\n",
              "\t<tr><td>1906</td><td> 30569</td></tr>\n",
              "\t<tr><td>1907</td><td> 32935</td></tr>\n",
              "\t<tr><td>1908</td><td> 42768</td></tr>\n",
              "\t<tr><td>1909</td><td> 60899</td></tr>\n",
              "</tbody>\n",
              "</table>\n"
            ]
          },
          "metadata": {
            "tags": []
          }
        }
      ]
    },
    {
      "cell_type": "markdown",
      "metadata": {
        "id": "sXl5Tl17mKqk",
        "colab_type": "text"
      },
      "source": [
        "#### Ao observar o gráfico, podemos ver que tem uma informação que é muito discrepante da massa de dados. Para isso, precisamos investigar o porquê isso acontece. \n",
        "Para isso, vamos utilizar a função \"unique()\" na variável \"year\", que irá mostrar cada observação sem repetição. "
      ]
    },
    {
      "cell_type": "code",
      "metadata": {
        "id": "wUNIeUH3jPG_",
        "colab_type": "code",
        "outputId": "50150bf0-bbd6-45bd-fb40-fd3c7444cf47",
        "colab": {
          "base_uri": "https://localhost:8080/",
          "height": 1000
        }
      },
      "source": [
        "unique(park_visits$year)"
      ],
      "execution_count": 0,
      "outputs": [
        {
          "output_type": "display_data",
          "data": {
            "text/plain": [
              "  [1] \"1904\"  \"1941\"  \"1961\"  \"1935\"  \"1982\"  \"1919\"  \"1969\"  \"1967\"  \"1944\" \n",
              " [10] \"1989\"  \"1988\"  \"1993\"  \"1955\"  \"1976\"  \"1980\"  \"1934\"  \"1951\"  \"1925\" \n",
              " [19] \"1948\"  \"1931\"  \"1940\"  \"1971\"  \"1979\"  \"2011\"  \"2004\"  \"1968\"  \"1984\" \n",
              " [28] \"1987\"  \"1985\"  \"1973\"  \"1936\"  \"1992\"  \"1920\"  \"1991\"  \"1957\"  \"1964\" \n",
              " [37] \"1937\"  \"1966\"  \"1974\"  \"1995\"  \"1962\"  \"1929\"  \"1997\"  \"1950\"  \"1942\" \n",
              " [46] \"1956\"  \"1972\"  \"1970\"  \"2000\"  \"1933\"  \"1924\"  \"1921\"  \"2010\"  \"1978\" \n",
              " [55] \"1975\"  \"1906\"  \"1996\"  \"2003\"  \"2006\"  \"1947\"  \"2002\"  \"1908\"  \"1965\" \n",
              " [64] \"1939\"  \"1960\"  \"1938\"  \"1963\"  \"2001\"  \"1954\"  \"1958\"  \"2013\"  \"1981\" \n",
              " [73] \"1952\"  \"1923\"  \"1983\"  \"2016\"  \"1998\"  \"2007\"  \"2015\"  \"1915\"  \"1911\" \n",
              " [82] \"1917\"  \"Total\" \"1930\"  \"1932\"  \"1922\"  \"1926\"  \"1986\"  \"1990\"  \"2014\" \n",
              " [91] \"1994\"  \"2012\"  \"1977\"  \"2009\"  \"2008\"  \"2005\"  \"1999\"  \"1959\"  \"1946\" \n",
              "[100] \"1945\"  \"1953\"  \"1943\"  \"1949\"  \"1928\"  \"1927\"  \"1918\"  \"1916\"  \"1914\" \n",
              "[109] \"1913\"  \"1912\"  \"1910\"  \"1909\"  \"1905\"  \"1907\" "
            ],
            "text/latex": "\\begin{enumerate*}\n\\item '1904'\n\\item '1941'\n\\item '1961'\n\\item '1935'\n\\item '1982'\n\\item '1919'\n\\item '1969'\n\\item '1967'\n\\item '1944'\n\\item '1989'\n\\item '1988'\n\\item '1993'\n\\item '1955'\n\\item '1976'\n\\item '1980'\n\\item '1934'\n\\item '1951'\n\\item '1925'\n\\item '1948'\n\\item '1931'\n\\item '1940'\n\\item '1971'\n\\item '1979'\n\\item '2011'\n\\item '2004'\n\\item '1968'\n\\item '1984'\n\\item '1987'\n\\item '1985'\n\\item '1973'\n\\item '1936'\n\\item '1992'\n\\item '1920'\n\\item '1991'\n\\item '1957'\n\\item '1964'\n\\item '1937'\n\\item '1966'\n\\item '1974'\n\\item '1995'\n\\item '1962'\n\\item '1929'\n\\item '1997'\n\\item '1950'\n\\item '1942'\n\\item '1956'\n\\item '1972'\n\\item '1970'\n\\item '2000'\n\\item '1933'\n\\item '1924'\n\\item '1921'\n\\item '2010'\n\\item '1978'\n\\item '1975'\n\\item '1906'\n\\item '1996'\n\\item '2003'\n\\item '2006'\n\\item '1947'\n\\item '2002'\n\\item '1908'\n\\item '1965'\n\\item '1939'\n\\item '1960'\n\\item '1938'\n\\item '1963'\n\\item '2001'\n\\item '1954'\n\\item '1958'\n\\item '2013'\n\\item '1981'\n\\item '1952'\n\\item '1923'\n\\item '1983'\n\\item '2016'\n\\item '1998'\n\\item '2007'\n\\item '2015'\n\\item '1915'\n\\item '1911'\n\\item '1917'\n\\item 'Total'\n\\item '1930'\n\\item '1932'\n\\item '1922'\n\\item '1926'\n\\item '1986'\n\\item '1990'\n\\item '2014'\n\\item '1994'\n\\item '2012'\n\\item '1977'\n\\item '2009'\n\\item '2008'\n\\item '2005'\n\\item '1999'\n\\item '1959'\n\\item '1946'\n\\item '1945'\n\\item '1953'\n\\item '1943'\n\\item '1949'\n\\item '1928'\n\\item '1927'\n\\item '1918'\n\\item '1916'\n\\item '1914'\n\\item '1913'\n\\item '1912'\n\\item '1910'\n\\item '1909'\n\\item '1905'\n\\item '1907'\n\\end{enumerate*}\n",
            "text/markdown": "1. '1904'\n2. '1941'\n3. '1961'\n4. '1935'\n5. '1982'\n6. '1919'\n7. '1969'\n8. '1967'\n9. '1944'\n10. '1989'\n11. '1988'\n12. '1993'\n13. '1955'\n14. '1976'\n15. '1980'\n16. '1934'\n17. '1951'\n18. '1925'\n19. '1948'\n20. '1931'\n21. '1940'\n22. '1971'\n23. '1979'\n24. '2011'\n25. '2004'\n26. '1968'\n27. '1984'\n28. '1987'\n29. '1985'\n30. '1973'\n31. '1936'\n32. '1992'\n33. '1920'\n34. '1991'\n35. '1957'\n36. '1964'\n37. '1937'\n38. '1966'\n39. '1974'\n40. '1995'\n41. '1962'\n42. '1929'\n43. '1997'\n44. '1950'\n45. '1942'\n46. '1956'\n47. '1972'\n48. '1970'\n49. '2000'\n50. '1933'\n51. '1924'\n52. '1921'\n53. '2010'\n54. '1978'\n55. '1975'\n56. '1906'\n57. '1996'\n58. '2003'\n59. '2006'\n60. '1947'\n61. '2002'\n62. '1908'\n63. '1965'\n64. '1939'\n65. '1960'\n66. '1938'\n67. '1963'\n68. '2001'\n69. '1954'\n70. '1958'\n71. '2013'\n72. '1981'\n73. '1952'\n74. '1923'\n75. '1983'\n76. '2016'\n77. '1998'\n78. '2007'\n79. '2015'\n80. '1915'\n81. '1911'\n82. '1917'\n83. 'Total'\n84. '1930'\n85. '1932'\n86. '1922'\n87. '1926'\n88. '1986'\n89. '1990'\n90. '2014'\n91. '1994'\n92. '2012'\n93. '1977'\n94. '2009'\n95. '2008'\n96. '2005'\n97. '1999'\n98. '1959'\n99. '1946'\n100. '1945'\n101. '1953'\n102. '1943'\n103. '1949'\n104. '1928'\n105. '1927'\n106. '1918'\n107. '1916'\n108. '1914'\n109. '1913'\n110. '1912'\n111. '1910'\n112. '1909'\n113. '1905'\n114. '1907'\n\n\n",
            "text/html": [
              "<ol class=list-inline>\n",
              "\t<li>'1904'</li>\n",
              "\t<li>'1941'</li>\n",
              "\t<li>'1961'</li>\n",
              "\t<li>'1935'</li>\n",
              "\t<li>'1982'</li>\n",
              "\t<li>'1919'</li>\n",
              "\t<li>'1969'</li>\n",
              "\t<li>'1967'</li>\n",
              "\t<li>'1944'</li>\n",
              "\t<li>'1989'</li>\n",
              "\t<li>'1988'</li>\n",
              "\t<li>'1993'</li>\n",
              "\t<li>'1955'</li>\n",
              "\t<li>'1976'</li>\n",
              "\t<li>'1980'</li>\n",
              "\t<li>'1934'</li>\n",
              "\t<li>'1951'</li>\n",
              "\t<li>'1925'</li>\n",
              "\t<li>'1948'</li>\n",
              "\t<li>'1931'</li>\n",
              "\t<li>'1940'</li>\n",
              "\t<li>'1971'</li>\n",
              "\t<li>'1979'</li>\n",
              "\t<li>'2011'</li>\n",
              "\t<li>'2004'</li>\n",
              "\t<li>'1968'</li>\n",
              "\t<li>'1984'</li>\n",
              "\t<li>'1987'</li>\n",
              "\t<li>'1985'</li>\n",
              "\t<li>'1973'</li>\n",
              "\t<li>'1936'</li>\n",
              "\t<li>'1992'</li>\n",
              "\t<li>'1920'</li>\n",
              "\t<li>'1991'</li>\n",
              "\t<li>'1957'</li>\n",
              "\t<li>'1964'</li>\n",
              "\t<li>'1937'</li>\n",
              "\t<li>'1966'</li>\n",
              "\t<li>'1974'</li>\n",
              "\t<li>'1995'</li>\n",
              "\t<li>'1962'</li>\n",
              "\t<li>'1929'</li>\n",
              "\t<li>'1997'</li>\n",
              "\t<li>'1950'</li>\n",
              "\t<li>'1942'</li>\n",
              "\t<li>'1956'</li>\n",
              "\t<li>'1972'</li>\n",
              "\t<li>'1970'</li>\n",
              "\t<li>'2000'</li>\n",
              "\t<li>'1933'</li>\n",
              "\t<li>'1924'</li>\n",
              "\t<li>'1921'</li>\n",
              "\t<li>'2010'</li>\n",
              "\t<li>'1978'</li>\n",
              "\t<li>'1975'</li>\n",
              "\t<li>'1906'</li>\n",
              "\t<li>'1996'</li>\n",
              "\t<li>'2003'</li>\n",
              "\t<li>'2006'</li>\n",
              "\t<li>'1947'</li>\n",
              "\t<li>'2002'</li>\n",
              "\t<li>'1908'</li>\n",
              "\t<li>'1965'</li>\n",
              "\t<li>'1939'</li>\n",
              "\t<li>'1960'</li>\n",
              "\t<li>'1938'</li>\n",
              "\t<li>'1963'</li>\n",
              "\t<li>'2001'</li>\n",
              "\t<li>'1954'</li>\n",
              "\t<li>'1958'</li>\n",
              "\t<li>'2013'</li>\n",
              "\t<li>'1981'</li>\n",
              "\t<li>'1952'</li>\n",
              "\t<li>'1923'</li>\n",
              "\t<li>'1983'</li>\n",
              "\t<li>'2016'</li>\n",
              "\t<li>'1998'</li>\n",
              "\t<li>'2007'</li>\n",
              "\t<li>'2015'</li>\n",
              "\t<li>'1915'</li>\n",
              "\t<li>'1911'</li>\n",
              "\t<li>'1917'</li>\n",
              "\t<li>'Total'</li>\n",
              "\t<li>'1930'</li>\n",
              "\t<li>'1932'</li>\n",
              "\t<li>'1922'</li>\n",
              "\t<li>'1926'</li>\n",
              "\t<li>'1986'</li>\n",
              "\t<li>'1990'</li>\n",
              "\t<li>'2014'</li>\n",
              "\t<li>'1994'</li>\n",
              "\t<li>'2012'</li>\n",
              "\t<li>'1977'</li>\n",
              "\t<li>'2009'</li>\n",
              "\t<li>'2008'</li>\n",
              "\t<li>'2005'</li>\n",
              "\t<li>'1999'</li>\n",
              "\t<li>'1959'</li>\n",
              "\t<li>'1946'</li>\n",
              "\t<li>'1945'</li>\n",
              "\t<li>'1953'</li>\n",
              "\t<li>'1943'</li>\n",
              "\t<li>'1949'</li>\n",
              "\t<li>'1928'</li>\n",
              "\t<li>'1927'</li>\n",
              "\t<li>'1918'</li>\n",
              "\t<li>'1916'</li>\n",
              "\t<li>'1914'</li>\n",
              "\t<li>'1913'</li>\n",
              "\t<li>'1912'</li>\n",
              "\t<li>'1910'</li>\n",
              "\t<li>'1909'</li>\n",
              "\t<li>'1905'</li>\n",
              "\t<li>'1907'</li>\n",
              "</ol>\n"
            ]
          },
          "metadata": {
            "tags": []
          }
        }
      ]
    },
    {
      "cell_type": "markdown",
      "metadata": {
        "id": "lKNMqyAJnnKw",
        "colab_type": "text"
      },
      "source": [
        "Aqui a função \"unique()\" mostra todos os anos presentes no data set, mas sem repetição. Então observamos existe uma observação \"Total\". Essa observação está presente no data set original e contabiliza o número total de visitas no período."
      ]
    },
    {
      "cell_type": "markdown",
      "metadata": {
        "id": "jTHUdSvxCWQC",
        "colab_type": "text"
      },
      "source": [
        "#### Agora iremos retirar do banco a observação \"Total\" e iremos aproveitar para filtar a variável \"unit_type\" que tem a nomenclatura \"National Park\":"
      ]
    },
    {
      "cell_type": "code",
      "metadata": {
        "id": "n9SFZxBpmvfp",
        "colab_type": "code",
        "colab": {}
      },
      "source": [
        "visitors_year <- park_visits %>%\n",
        "  select(year, visitors, unit_type)%>%\n",
        "  filter(year != \"Total\", \n",
        "         str_detect(unit_type, \"National Park$\"), visitors > 0\n",
        "        ) %>%\n",
        "  group_by(year) %>%\n",
        "  summarise(total_visit = sum(visitors, na.rm = TRUE))\n"
      ],
      "execution_count": 0,
      "outputs": []
    },
    {
      "cell_type": "markdown",
      "metadata": {
        "id": "Hulg2xUbqopM",
        "colab_type": "text"
      },
      "source": [
        "Fizemos um filtro para retirar os dados referentes ao \"Total\" dentro da variável \"year\". Depois disso, selecionamos todos os parques onde a variável \"unit_type\" é igual a \"National Park\". \n",
        "\n",
        "Para isso utilizamos a função **\"str_detect()\"** que tem como objetivo detectar a presença ou ausência de algum padrão dentro de uma string. A estrutura básica dessa função é a seguinte:\n",
        "\n",
        "**str_detect(string, pattern)**\n",
        "\n",
        "Onde: \n",
        "\n",
        "* string: é a variável que desejamos analisar; \n",
        "* pattern: é o padrão a ser buscado na string. \n",
        "\n",
        "O parâmetro **pattern** é utilizado com expressões regulares, que são formas robustas de identificar padrões de caracteres. Para uma breve explicação, [acesse aqui](https://rstudio.com/wp-content/uploads/2016/09/RegExCheatsheet.pdf).\n",
        "\n",
        "No nosso caso, **string** é a variável \"unit_type\" e **patter** é \"National Park\". Note que utilizamos um '\\$' ao final da palavra Park. Ao observar a variável \"unit_type\" dentro do data set \"park_visits\" existem nomenclaturas com \"Park\" e também com\"Parkway\". Então para garantir que iremos pegar apenas os nomes iguais a \"National Park\", utilizamos o '\\$' para mostrar que queremos exatamente essa nomenclatura."
      ]
    },
    {
      "cell_type": "code",
      "metadata": {
        "id": "n8BV_HsqOOTQ",
        "colab_type": "code",
        "outputId": "01e68535-d9ca-4cb5-d0b6-f37db45ed6ff",
        "colab": {
          "base_uri": "https://localhost:8080/",
          "height": 742
        }
      },
      "source": [
        "unique(park_visits$unit_type)\n",
        "head(visitors_year)"
      ],
      "execution_count": 0,
      "outputs": [
        {
          "output_type": "display_data",
          "data": {
            "text/plain": [
              " [1] \"National Park\"                        \n",
              " [2] \"National Recreation Area\"             \n",
              " [3] \"National Historical Park\"             \n",
              " [4] \"National Seashore\"                    \n",
              " [5] \"National Preserve\"                    \n",
              " [6] \"National River and Recreation Area\"   \n",
              " [7] \"Parkway\"                              \n",
              " [8] \"National Scenic River\"                \n",
              " [9] \"National Military Park\"               \n",
              "[10] \"National Monument\"                    \n",
              "[11] \"National Historic Site\"               \n",
              "[12] \"National Recreation River\"            \n",
              "[13] \"National River\"                       \n",
              "[14] \"Wild and Scenic River\"                \n",
              "[15] \"Park\"                                 \n",
              "[16] \"National Battlefield\"                 \n",
              "[17] \"National Lakeshore\"                   \n",
              "[18] \"Ecological and Historic Preserve\"     \n",
              "[19] \"National Battlefield Park\"            \n",
              "[20] \"National Memorial\"                    \n",
              "[21] \"Other Designation\"                    \n",
              "[22] \"National Battlefield Site\"            \n",
              "[23] \"National Parkway\"                     \n",
              "[24] \"National Historical Park and Preserve\"\n",
              "[25] \"National Reserve\"                     \n",
              "[26] \"National Scenic Riverway\"             \n",
              "[27] \"War in the Pacific\"                   \n",
              "[28] \"Scenic and Recreational River\"        \n",
              "[29] \"International Historic Site\"          \n",
              "[30] \"Valles Caldera National Preserve\"     "
            ],
            "text/latex": "\\begin{enumerate*}\n\\item 'National Park'\n\\item 'National Recreation Area'\n\\item 'National Historical Park'\n\\item 'National Seashore'\n\\item 'National Preserve'\n\\item 'National River and Recreation Area'\n\\item 'Parkway'\n\\item 'National Scenic River'\n\\item 'National Military Park'\n\\item 'National Monument'\n\\item 'National Historic Site'\n\\item 'National Recreation River'\n\\item 'National River'\n\\item 'Wild and Scenic River'\n\\item 'Park'\n\\item 'National Battlefield'\n\\item 'National Lakeshore'\n\\item 'Ecological and Historic Preserve'\n\\item 'National Battlefield Park'\n\\item 'National Memorial'\n\\item 'Other Designation'\n\\item 'National Battlefield Site'\n\\item 'National Parkway'\n\\item 'National Historical Park and Preserve'\n\\item 'National Reserve'\n\\item 'National Scenic Riverway'\n\\item 'War in the Pacific'\n\\item 'Scenic and Recreational River'\n\\item 'International Historic Site'\n\\item 'Valles Caldera National Preserve'\n\\end{enumerate*}\n",
            "text/markdown": "1. 'National Park'\n2. 'National Recreation Area'\n3. 'National Historical Park'\n4. 'National Seashore'\n5. 'National Preserve'\n6. 'National River and Recreation Area'\n7. 'Parkway'\n8. 'National Scenic River'\n9. 'National Military Park'\n10. 'National Monument'\n11. 'National Historic Site'\n12. 'National Recreation River'\n13. 'National River'\n14. 'Wild and Scenic River'\n15. 'Park'\n16. 'National Battlefield'\n17. 'National Lakeshore'\n18. 'Ecological and Historic Preserve'\n19. 'National Battlefield Park'\n20. 'National Memorial'\n21. 'Other Designation'\n22. 'National Battlefield Site'\n23. 'National Parkway'\n24. 'National Historical Park and Preserve'\n25. 'National Reserve'\n26. 'National Scenic Riverway'\n27. 'War in the Pacific'\n28. 'Scenic and Recreational River'\n29. 'International Historic Site'\n30. 'Valles Caldera National Preserve'\n\n\n",
            "text/html": [
              "<ol class=list-inline>\n",
              "\t<li>'National Park'</li>\n",
              "\t<li>'National Recreation Area'</li>\n",
              "\t<li>'National Historical Park'</li>\n",
              "\t<li>'National Seashore'</li>\n",
              "\t<li>'National Preserve'</li>\n",
              "\t<li>'National River and Recreation Area'</li>\n",
              "\t<li>'Parkway'</li>\n",
              "\t<li>'National Scenic River'</li>\n",
              "\t<li>'National Military Park'</li>\n",
              "\t<li>'National Monument'</li>\n",
              "\t<li>'National Historic Site'</li>\n",
              "\t<li>'National Recreation River'</li>\n",
              "\t<li>'National River'</li>\n",
              "\t<li>'Wild and Scenic River'</li>\n",
              "\t<li>'Park'</li>\n",
              "\t<li>'National Battlefield'</li>\n",
              "\t<li>'National Lakeshore'</li>\n",
              "\t<li>'Ecological and Historic Preserve'</li>\n",
              "\t<li>'National Battlefield Park'</li>\n",
              "\t<li>'National Memorial'</li>\n",
              "\t<li>'Other Designation'</li>\n",
              "\t<li>'National Battlefield Site'</li>\n",
              "\t<li>'National Parkway'</li>\n",
              "\t<li>'National Historical Park and Preserve'</li>\n",
              "\t<li>'National Reserve'</li>\n",
              "\t<li>'National Scenic Riverway'</li>\n",
              "\t<li>'War in the Pacific'</li>\n",
              "\t<li>'Scenic and Recreational River'</li>\n",
              "\t<li>'International Historic Site'</li>\n",
              "\t<li>'Valles Caldera National Preserve'</li>\n",
              "</ol>\n"
            ]
          },
          "metadata": {
            "tags": []
          }
        },
        {
          "output_type": "display_data",
          "data": {
            "text/plain": [
              "  year total_visit\n",
              "1 1904 120690     \n",
              "2 1905 140954     \n",
              "3 1906  30569     \n",
              "4 1907  32935     \n",
              "5 1908  42768     \n",
              "6 1909  60899     "
            ],
            "text/latex": "A tibble: 6 × 2\n\\begin{tabular}{r|ll}\n year & total\\_visit\\\\\n <chr> & <dbl>\\\\\n\\hline\n\t 1904 & 120690\\\\\n\t 1905 & 140954\\\\\n\t 1906 &  30569\\\\\n\t 1907 &  32935\\\\\n\t 1908 &  42768\\\\\n\t 1909 &  60899\\\\\n\\end{tabular}\n",
            "text/markdown": "\nA tibble: 6 × 2\n\n| year &lt;chr&gt; | total_visit &lt;dbl&gt; |\n|---|---|\n| 1904 | 120690 |\n| 1905 | 140954 |\n| 1906 |  30569 |\n| 1907 |  32935 |\n| 1908 |  42768 |\n| 1909 |  60899 |\n\n",
            "text/html": [
              "<table>\n",
              "<caption>A tibble: 6 × 2</caption>\n",
              "<thead>\n",
              "\t<tr><th scope=col>year</th><th scope=col>total_visit</th></tr>\n",
              "\t<tr><th scope=col>&lt;chr&gt;</th><th scope=col>&lt;dbl&gt;</th></tr>\n",
              "</thead>\n",
              "<tbody>\n",
              "\t<tr><td>1904</td><td>120690</td></tr>\n",
              "\t<tr><td>1905</td><td>140954</td></tr>\n",
              "\t<tr><td>1906</td><td> 30569</td></tr>\n",
              "\t<tr><td>1907</td><td> 32935</td></tr>\n",
              "\t<tr><td>1908</td><td> 42768</td></tr>\n",
              "\t<tr><td>1909</td><td> 60899</td></tr>\n",
              "</tbody>\n",
              "</table>\n"
            ]
          },
          "metadata": {
            "tags": []
          }
        }
      ]
    },
    {
      "cell_type": "markdown",
      "metadata": {
        "id": "3XVdDCnfCtWy",
        "colab_type": "text"
      },
      "source": [
        "#### Com o dataset que iremos usar pronto, vamos criar algumas var. necessárias para usar no comando do gráfico:"
      ]
    },
    {
      "cell_type": "markdown",
      "metadata": {
        "id": "lLmZIE41IekJ",
        "colab_type": "text"
      },
      "source": [
        "Aqui, iremos criar os intervalos dos eixos X e Y para ficarem iguais ao gráfico que desejamos construir. Se não criarmos esses intervalos, o R irá criar automaticamente. \n",
        "* Então, para o eixo X vamos criar uma variável \"breaks\" que irá armazenar uma sequência que começa em 1910 e vai até 2010, com um intervalo de 10 unidades. Já a variável \"labels\" irá armazenar os valores (neste caso, não são números e sim caracteres) que irão aparecer na legenda do eixo X."
      ]
    },
    {
      "cell_type": "code",
      "metadata": {
        "id": "QvtGS_xztwI-",
        "colab_type": "code",
        "colab": {}
      },
      "source": [
        "breaks <- seq(1910, 2010, by = 10) \n",
        "labels <- c(\"1910\", \"'20\", \"'30\", \"'40\", \"'50\", \"'60\", \"'70\", \"'80\", \"'90\", \"2000\", \"'10\") #montando manualmente os ticks do eixo x"
      ],
      "execution_count": 0,
      "outputs": []
    },
    {
      "cell_type": "code",
      "metadata": {
        "id": "KkNNWuuWJCFf",
        "colab_type": "code",
        "outputId": "203cef02-ef3a-45d8-eebf-762ec0b7f7a3",
        "colab": {
          "base_uri": "https://localhost:8080/",
          "height": 433
        }
      },
      "source": [
        "breaks\n",
        "labels"
      ],
      "execution_count": 0,
      "outputs": [
        {
          "output_type": "display_data",
          "data": {
            "text/plain": [
              " [1] 1910 1920 1930 1940 1950 1960 1970 1980 1990 2000 2010"
            ],
            "text/latex": "\\begin{enumerate*}\n\\item 1910\n\\item 1920\n\\item 1930\n\\item 1940\n\\item 1950\n\\item 1960\n\\item 1970\n\\item 1980\n\\item 1990\n\\item 2000\n\\item 2010\n\\end{enumerate*}\n",
            "text/markdown": "1. 1910\n2. 1920\n3. 1930\n4. 1940\n5. 1950\n6. 1960\n7. 1970\n8. 1980\n9. 1990\n10. 2000\n11. 2010\n\n\n",
            "text/html": [
              "<ol class=list-inline>\n",
              "\t<li>1910</li>\n",
              "\t<li>1920</li>\n",
              "\t<li>1930</li>\n",
              "\t<li>1940</li>\n",
              "\t<li>1950</li>\n",
              "\t<li>1960</li>\n",
              "\t<li>1970</li>\n",
              "\t<li>1980</li>\n",
              "\t<li>1990</li>\n",
              "\t<li>2000</li>\n",
              "\t<li>2010</li>\n",
              "</ol>\n"
            ]
          },
          "metadata": {
            "tags": []
          }
        },
        {
          "output_type": "display_data",
          "data": {
            "text/plain": [
              " [1] \"1910\" \"'20\"  \"'30\"  \"'40\"  \"'50\"  \"'60\"  \"'70\"  \"'80\"  \"'90\"  \"2000\"\n",
              "[11] \"'10\" "
            ],
            "text/latex": "\\begin{enumerate*}\n\\item '1910'\n\\item '\\textbackslash{}'20'\n\\item '\\textbackslash{}'30'\n\\item '\\textbackslash{}'40'\n\\item '\\textbackslash{}'50'\n\\item '\\textbackslash{}'60'\n\\item '\\textbackslash{}'70'\n\\item '\\textbackslash{}'80'\n\\item '\\textbackslash{}'90'\n\\item '2000'\n\\item '\\textbackslash{}'10'\n\\end{enumerate*}\n",
            "text/markdown": "1. '1910'\n2. '\\'20'\n3. '\\'30'\n4. '\\'40'\n5. '\\'50'\n6. '\\'60'\n7. '\\'70'\n8. '\\'80'\n9. '\\'90'\n10. '2000'\n11. '\\'10'\n\n\n",
            "text/html": [
              "<ol class=list-inline>\n",
              "\t<li>'1910'</li>\n",
              "\t<li>'\\'20'</li>\n",
              "\t<li>'\\'30'</li>\n",
              "\t<li>'\\'40'</li>\n",
              "\t<li>'\\'50'</li>\n",
              "\t<li>'\\'60'</li>\n",
              "\t<li>'\\'70'</li>\n",
              "\t<li>'\\'80'</li>\n",
              "\t<li>'\\'90'</li>\n",
              "\t<li>'2000'</li>\n",
              "\t<li>'\\'10'</li>\n",
              "</ol>\n"
            ]
          },
          "metadata": {
            "tags": []
          }
        }
      ]
    },
    {
      "cell_type": "markdown",
      "metadata": {
        "id": "Yz9xgzmeL-A9",
        "colab_type": "text"
      },
      "source": [
        "* Para o eixo Y, também iremos criar uma sequência para montar manualmente os valores que irão aparecer. A variável Y indica o número de visitas por ano. Então, na variável \"labels\" precisaremos ajustar a escala para milhão, então usaremos a função unit_format() do pacote \"scales\" (que carregamos no início do projeto) que nos permitirá ajustar essa escala. Para mais informações sobre esse pacote, [clique aqui](https://www.tidyverse.org/articles/2018/08/scales-1-0-0/)."
      ]
    },
    {
      "cell_type": "code",
      "metadata": {
        "id": "QNP8N7ryyKMo",
        "colab_type": "code",
        "colab": {}
      },
      "source": [
        "breaks_y <- seq(0, max(visitors_year$total_visit), by = 20e+6) #criando uma sequência para montar os ticks do eixo y\n",
        "labels_y <- unit_format(unit = \"M\",scale = 1e-6)(breaks_y) #montando os ticks do eixo y"
      ],
      "execution_count": 0,
      "outputs": []
    },
    {
      "cell_type": "code",
      "metadata": {
        "id": "_BS8mTioXnL7",
        "colab_type": "code",
        "outputId": "7b6f3031-9158-4e38-f969-574c0554f178",
        "colab": {
          "base_uri": "https://localhost:8080/",
          "height": 229
        }
      },
      "source": [
        "breaks_y\n",
        "labels_y"
      ],
      "execution_count": 0,
      "outputs": [
        {
          "output_type": "display_data",
          "data": {
            "text/plain": [
              "[1] 0e+00 2e+07 4e+07 6e+07 8e+07"
            ],
            "text/latex": "\\begin{enumerate*}\n\\item 0\n\\item 2e+07\n\\item 4e+07\n\\item 6e+07\n\\item 8e+07\n\\end{enumerate*}\n",
            "text/markdown": "1. 0\n2. 2e+07\n3. 4e+07\n4. 6e+07\n5. 8e+07\n\n\n",
            "text/html": [
              "<ol class=list-inline>\n",
              "\t<li>0</li>\n",
              "\t<li>2e+07</li>\n",
              "\t<li>4e+07</li>\n",
              "\t<li>6e+07</li>\n",
              "\t<li>8e+07</li>\n",
              "</ol>\n"
            ]
          },
          "metadata": {
            "tags": []
          }
        },
        {
          "output_type": "display_data",
          "data": {
            "text/plain": [
              "[1] \"0 M\"  \"20 M\" \"40 M\" \"60 M\" \"80 M\""
            ],
            "text/latex": "\\begin{enumerate*}\n\\item '0 M'\n\\item '20 M'\n\\item '40 M'\n\\item '60 M'\n\\item '80 M'\n\\end{enumerate*}\n",
            "text/markdown": "1. '0 M'\n2. '20 M'\n3. '40 M'\n4. '60 M'\n5. '80 M'\n\n\n",
            "text/html": [
              "<ol class=list-inline>\n",
              "\t<li>'0 M'</li>\n",
              "\t<li>'20 M'</li>\n",
              "\t<li>'40 M'</li>\n",
              "\t<li>'60 M'</li>\n",
              "\t<li>'80 M'</li>\n",
              "</ol>\n"
            ]
          },
          "metadata": {
            "tags": []
          }
        }
      ]
    },
    {
      "cell_type": "markdown",
      "metadata": {
        "id": "ueTYIm_AC84k",
        "colab_type": "text"
      },
      "source": [
        "## Plotando o Gráfico"
      ]
    },
    {
      "cell_type": "markdown",
      "metadata": {
        "id": "NEki9AVCPPvs",
        "colab_type": "text"
      },
      "source": [
        "Para plotar o gráfico precisamos em cada função do [pacote ggplot2](https://ggplot2.tidyverse.org/) especificar o que queremos.\n",
        "\n",
        "* ggplot(): aqui especificamos o data set que iremos usar e quem são as variáveis x e y;\n",
        "* geom_area(): definimos o tipo de gráfico, que neste caso é um gráfico com preenchimento de área;\n",
        "* scale_x_discrete(): aqui iremos especificar os intervalos que montamos acima e as legendas (\"breaks\" e \"labels\");\n",
        "* scale_y_continuous(): idem a função acima;\n",
        "* labs(): aqui definimos o título e o sub-título do gráfico;\n",
        "* theme(): usaremos essa função para retirar os títulos de cada eixo com os parâmetros **\"axis.title.x = element_blank()\"** e **\"axis.title.y = element_blank()\"**."
      ]
    },
    {
      "cell_type": "code",
      "metadata": {
        "id": "T2HNC-dfoXDl",
        "colab_type": "code",
        "outputId": "fec9e556-c7a4-48ca-960d-7d4cdb581354",
        "colab": {
          "base_uri": "https://localhost:8080/",
          "height": 857
        }
      },
      "source": [
        " ggplot(visitors_year, aes(x = year, y = total_visit, group = 1)) + #definindo o dataset e as var. de cada eixo (x,y)\n",
        "  geom_area(color = \"green4\", fill = \"green4\", alpha = 0.4) + #gráfico com preenchimento de áerea\n",
        "  scale_x_discrete(breaks = breaks, labels = labels) + #definindo os ticks do eixo x\n",
        "  scale_y_continuous(breaks = breaks_y, labels = labels_y) + #definindo os ticks do eixo y\n",
        "  labs(title = \"U.S. national parks have never been so popular\", \n",
        "       subtitle = \"Annual recreational visits to national parks since 1904\") + #escrevendo o título e subt-título\n",
        "  theme(axis.title.x = element_blank(), axis.title.y = element_blank()) #retirando o título de cada eixo\n",
        "  "
      ],
      "execution_count": 0,
      "outputs": [
        {
          "output_type": "display_data",
          "data": {
            "image/png": "[encoded data removed]",
            "text/plain": [
              "plot without title"
            ]
          },
          "metadata": {
            "tags": []
          }
        }
      ]
    },
    {
      "cell_type": "markdown",
      "metadata": {
        "id": "XCnrq9uqSv1I",
        "colab_type": "text"
      },
      "source": [
        "## Pronto! Aqui temos o gráfico que nos propomos a construir! :D"
      ]
    },
    {
      "cell_type": "code",
      "metadata": {
        "id": "EON-uEMtS6sg",
        "colab_type": "code",
        "colab": {}
      },
      "source": [
        ""
      ],
      "execution_count": 0,
      "outputs": []
    }
  ]
}