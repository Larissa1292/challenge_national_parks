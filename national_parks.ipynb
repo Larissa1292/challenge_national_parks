{
  "nbformat": 4,
  "nbformat_minor": 0,
  "metadata": {
    "kernelspec": {
      "display_name": "R",
      "language": "R",
      "name": "ir"
    },
    "language_info": {
      "codemirror_mode": "r",
      "file_extension": ".r",
      "mimetype": "text/x-r-source",
      "name": "R",
      "pygments_lexer": "r",
      "version": "3.3.1"
    },
    "colab": {
      "name": "national_parks.ipynb",
      "provenance": [],
      "include_colab_link": true
    }
  },
  "cells": [
    {
      "cell_type": "markdown",
      "metadata": {
        "id": "view-in-github",
        "colab_type": "text"
      },
      "source": [
        "<a href=\"https://colab.research.google.com/github/Larissa1292/challenge_national_parks/blob/master/national_parks.ipynb\" target=\"_parent\"><img src=\"https://colab.research.google.com/assets/colab-badge.svg\" alt=\"Open In Colab\"/></a>"
      ]
    },
    {
      "cell_type": "markdown",
      "metadata": {
        "id": "JMiwEbynarNt",
        "colab_type": "text"
      },
      "source": [
        "## Lendo os bancos de dados que serão utilizados\n"
      ]
    },
    {
      "cell_type": "code",
      "metadata": {
        "id": "fUgimkCgYlGi",
        "colab_type": "code",
        "colab": {
          "base_uri": "https://localhost:8080/",
          "height": 503
        },
        "outputId": "744c8de0-974a-4a1f-a517-7c03f78f0414"
      },
      "source": [
        "park_visits <- readr::read_csv(\"https://raw.githubusercontent.com/rfordatascience/tidytuesday/master/data/2019/2019-09-17/national_parks.csv\")\n",
        "state_pop <- readr::read_csv(\"https://raw.githubusercontent.com/rfordatascience/tidytuesday/master/data/2019/2019-09-17/state_pop.csv\")\n",
        "gas_price <- readr::read_csv(\"https://raw.githubusercontent.com/rfordatascience/tidytuesday/master/data/2019/2019-09-17/gas_price.csv\")"
      ],
      "execution_count": 4,
      "outputs": [
        {
          "output_type": "stream",
          "text": [
            "Parsed with column specification:\n",
            "cols(\n",
            "  year = \u001b[31mcol_character()\u001b[39m,\n",
            "  gnis_id = \u001b[31mcol_character()\u001b[39m,\n",
            "  geometry = \u001b[31mcol_character()\u001b[39m,\n",
            "  metadata = \u001b[31mcol_character()\u001b[39m,\n",
            "  number_of_records = \u001b[32mcol_double()\u001b[39m,\n",
            "  parkname = \u001b[31mcol_character()\u001b[39m,\n",
            "  region = \u001b[31mcol_character()\u001b[39m,\n",
            "  state = \u001b[31mcol_character()\u001b[39m,\n",
            "  unit_code = \u001b[31mcol_character()\u001b[39m,\n",
            "  unit_name = \u001b[31mcol_character()\u001b[39m,\n",
            "  unit_type = \u001b[31mcol_character()\u001b[39m,\n",
            "  visitors = \u001b[32mcol_double()\u001b[39m\n",
            ")\n",
            "Parsed with column specification:\n",
            "cols(\n",
            "  year = \u001b[32mcol_double()\u001b[39m,\n",
            "  state = \u001b[31mcol_character()\u001b[39m,\n",
            "  pop = \u001b[32mcol_double()\u001b[39m\n",
            ")\n",
            "Parsed with column specification:\n",
            "cols(\n",
            "  year = \u001b[32mcol_double()\u001b[39m,\n",
            "  gas_current = \u001b[32mcol_double()\u001b[39m,\n",
            "  gas_constant = \u001b[32mcol_double()\u001b[39m\n",
            ")\n"
          ],
          "name": "stderr"
        }
      ]
    },
    {
      "cell_type": "code",
      "metadata": {
        "id": "Oo0WZIDebQqh",
        "colab_type": "code",
        "colab": {
          "base_uri": "https://localhost:8080/",
          "height": 544
        },
        "outputId": "d1c2324f-d113-494c-fcda-789f7aa009c7"
      },
      "source": [
        "head(park_visits) #visualizando o início do dataset\n",
        "tail(park_visits) #visualizando o final do dataset"
      ],
      "execution_count": 32,
      "outputs": [
        {
          "output_type": "display_data",
          "data": {
            "text/plain": [
              "  year gnis_id geometry     metadata number_of_records parkname              \n",
              "1 1904 1163670 POLYGON      NA       1                 Crater Lake           \n",
              "2 1941 1531834 MULTIPOLYGON NA       1                 Lake Roosevelt        \n",
              "3 1961 2055170 MULTIPOLYGON NA       1                 Lewis and Clark       \n",
              "4 1935 1530459 MULTIPOLYGON NA       1                 Olympic               \n",
              "5 1982 277263  POLYGON      NA       1                 Santa Monica Mountains\n",
              "6 1919 578853  MULTIPOLYGON NA       1                 NA                    \n",
              "  region state unit_code unit_name                                      \n",
              "1 PW     OR    CRLA      Crater Lake National Park                      \n",
              "2 PW     WA    LARO      Lake Roosevelt National Recreation Area        \n",
              "3 PW     WA    LEWI      Lewis and Clark National Historical Park       \n",
              "4 PW     WA    OLYM      Olympic National Park                          \n",
              "5 PW     CA    SAMO      Santa Monica Mountains National Recreation Area\n",
              "6 NE     ME    ACAD      Acadia National Park                           \n",
              "  unit_type                visitors\n",
              "1 National Park              1500  \n",
              "2 National Recreation Area      0  \n",
              "3 National Historical Park  69000  \n",
              "4 National Park              2200  \n",
              "5 National Recreation Area 468144  \n",
              "6 National Park             64000  "
            ],
            "text/latex": "A tibble: 6 × 12\n\\begin{tabular}{r|llllllllllll}\n year & gnis\\_id & geometry & metadata & number\\_of\\_records & parkname & region & state & unit\\_code & unit\\_name & unit\\_type & visitors\\\\\n <chr> & <chr> & <chr> & <chr> & <dbl> & <chr> & <chr> & <chr> & <chr> & <chr> & <chr> & <dbl>\\\\\n\\hline\n\t 1904 & 1163670 & POLYGON      & NA & 1 & Crater Lake            & PW & OR & CRLA & Crater Lake National Park                       & National Park            &   1500\\\\\n\t 1941 & 1531834 & MULTIPOLYGON & NA & 1 & Lake Roosevelt         & PW & WA & LARO & Lake Roosevelt National Recreation Area         & National Recreation Area &      0\\\\\n\t 1961 & 2055170 & MULTIPOLYGON & NA & 1 & Lewis and Clark        & PW & WA & LEWI & Lewis and Clark National Historical Park        & National Historical Park &  69000\\\\\n\t 1935 & 1530459 & MULTIPOLYGON & NA & 1 & Olympic                & PW & WA & OLYM & Olympic National Park                           & National Park            &   2200\\\\\n\t 1982 & 277263  & POLYGON      & NA & 1 & Santa Monica Mountains & PW & CA & SAMO & Santa Monica Mountains National Recreation Area & National Recreation Area & 468144\\\\\n\t 1919 & 578853  & MULTIPOLYGON & NA & 1 & NA                     & NE & ME & ACAD & Acadia National Park                            & National Park            &  64000\\\\\n\\end{tabular}\n",
            "text/markdown": "\nA tibble: 6 × 12\n\n| year &lt;chr&gt; | gnis_id &lt;chr&gt; | geometry &lt;chr&gt; | metadata &lt;chr&gt; | number_of_records &lt;dbl&gt; | parkname &lt;chr&gt; | region &lt;chr&gt; | state &lt;chr&gt; | unit_code &lt;chr&gt; | unit_name &lt;chr&gt; | unit_type &lt;chr&gt; | visitors &lt;dbl&gt; |\n|---|---|---|---|---|---|---|---|---|---|---|---|\n| 1904 | 1163670 | POLYGON      | NA | 1 | Crater Lake            | PW | OR | CRLA | Crater Lake National Park                       | National Park            |   1500 |\n| 1941 | 1531834 | MULTIPOLYGON | NA | 1 | Lake Roosevelt         | PW | WA | LARO | Lake Roosevelt National Recreation Area         | National Recreation Area |      0 |\n| 1961 | 2055170 | MULTIPOLYGON | NA | 1 | Lewis and Clark        | PW | WA | LEWI | Lewis and Clark National Historical Park        | National Historical Park |  69000 |\n| 1935 | 1530459 | MULTIPOLYGON | NA | 1 | Olympic                | PW | WA | OLYM | Olympic National Park                           | National Park            |   2200 |\n| 1982 | 277263  | POLYGON      | NA | 1 | Santa Monica Mountains | PW | CA | SAMO | Santa Monica Mountains National Recreation Area | National Recreation Area | 468144 |\n| 1919 | 578853  | MULTIPOLYGON | NA | 1 | NA                     | NE | ME | ACAD | Acadia National Park                            | National Park            |  64000 |\n\n",
            "text/html": [
              "<table>\n",
              "<caption>A tibble: 6 × 12</caption>\n",
              "<thead>\n",
              "\t<tr><th scope=col>year</th><th scope=col>gnis_id</th><th scope=col>geometry</th><th scope=col>metadata</th><th scope=col>number_of_records</th><th scope=col>parkname</th><th scope=col>region</th><th scope=col>state</th><th scope=col>unit_code</th><th scope=col>unit_name</th><th scope=col>unit_type</th><th scope=col>visitors</th></tr>\n",
              "\t<tr><th scope=col>&lt;chr&gt;</th><th scope=col>&lt;chr&gt;</th><th scope=col>&lt;chr&gt;</th><th scope=col>&lt;chr&gt;</th><th scope=col>&lt;dbl&gt;</th><th scope=col>&lt;chr&gt;</th><th scope=col>&lt;chr&gt;</th><th scope=col>&lt;chr&gt;</th><th scope=col>&lt;chr&gt;</th><th scope=col>&lt;chr&gt;</th><th scope=col>&lt;chr&gt;</th><th scope=col>&lt;dbl&gt;</th></tr>\n",
              "</thead>\n",
              "<tbody>\n",
              "\t<tr><td>1904</td><td>1163670</td><td>POLYGON     </td><td>NA</td><td>1</td><td>Crater Lake           </td><td>PW</td><td>OR</td><td>CRLA</td><td>Crater Lake National Park                      </td><td>National Park           </td><td>  1500</td></tr>\n",
              "\t<tr><td>1941</td><td>1531834</td><td>MULTIPOLYGON</td><td>NA</td><td>1</td><td>Lake Roosevelt        </td><td>PW</td><td>WA</td><td>LARO</td><td>Lake Roosevelt National Recreation Area        </td><td>National Recreation Area</td><td>     0</td></tr>\n",
              "\t<tr><td>1961</td><td>2055170</td><td>MULTIPOLYGON</td><td>NA</td><td>1</td><td>Lewis and Clark       </td><td>PW</td><td>WA</td><td>LEWI</td><td>Lewis and Clark National Historical Park       </td><td>National Historical Park</td><td> 69000</td></tr>\n",
              "\t<tr><td>1935</td><td>1530459</td><td>MULTIPOLYGON</td><td>NA</td><td>1</td><td>Olympic               </td><td>PW</td><td>WA</td><td>OLYM</td><td>Olympic National Park                          </td><td>National Park           </td><td>  2200</td></tr>\n",
              "\t<tr><td>1982</td><td>277263 </td><td>POLYGON     </td><td>NA</td><td>1</td><td>Santa Monica Mountains</td><td>PW</td><td>CA</td><td>SAMO</td><td>Santa Monica Mountains National Recreation Area</td><td>National Recreation Area</td><td>468144</td></tr>\n",
              "\t<tr><td>1919</td><td>578853 </td><td>MULTIPOLYGON</td><td>NA</td><td>1</td><td>NA                    </td><td>NE</td><td>ME</td><td>ACAD</td><td>Acadia National Park                           </td><td>National Park           </td><td> 64000</td></tr>\n",
              "</tbody>\n",
              "</table>\n"
            ]
          },
          "metadata": {
            "tags": []
          }
        },
        {
          "output_type": "display_data",
          "data": {
            "text/plain": [
              "  year gnis_id geometry    \n",
              "1 1906 1263056 MULTIPOLYGON\n",
              "2 1905 1163670 POLYGON     \n",
              "3 1905 1609331 POLYGON     \n",
              "4 1905 255948  MULTIPOLYGON\n",
              "5 1905 1528416 MULTIPOLYGON\n",
              "6 1905 1263056 MULTIPOLYGON\n",
              "  metadata                                               number_of_records\n",
              "1 http://nrdata.nps.gov/programs/Lands/WICA_metadata.xml 1                \n",
              "2 NA                                                     1                \n",
              "3 http://nrdata.nps.gov/programs/Lands/YELL_metadata.xml 1                \n",
              "4 http://nrdata.nps.gov/programs/Lands/KICA_metadata.xml 1                \n",
              "5 http://nrdata.nps.gov/programs/Lands/MORA_metadata.xml 1                \n",
              "6 http://nrdata.nps.gov/programs/Lands/WICA_metadata.xml 1                \n",
              "  parkname      region state unit_code unit_name                  \n",
              "1 Wind Cave     MW     SD    WICA      Wind Cave National Park    \n",
              "2 Crater Lake   PW     OR    CRLA      Crater Lake National Park  \n",
              "3 Yellowstone   IM     WY    YELL      Yellowstone National Park  \n",
              "4 Kings Canyon  PW     CA    KICA      Kings Canyon National Park \n",
              "5 Mount Rainier PW     WA    MORA      Mount Rainier National Park\n",
              "6 Wind Cave     MW     SD    WICA      Wind Cave National Park    \n",
              "  unit_type     visitors\n",
              "1 National Park  2787   \n",
              "2 National Park  1400   \n",
              "3 National Park 26188   \n",
              "4 National Park  1000   \n",
              "5 National Park   928   \n",
              "6 National Park  2438   "
            ],
            "text/latex": "A tibble: 6 × 12\n\\begin{tabular}{r|llllllllllll}\n year & gnis\\_id & geometry & metadata & number\\_of\\_records & parkname & region & state & unit\\_code & unit\\_name & unit\\_type & visitors\\\\\n <chr> & <chr> & <chr> & <chr> & <dbl> & <chr> & <chr> & <chr> & <chr> & <chr> & <chr> & <dbl>\\\\\n\\hline\n\t 1906 & 1263056 & MULTIPOLYGON & http://nrdata.nps.gov/programs/Lands/WICA\\_metadata.xml & 1 & Wind Cave     & MW & SD & WICA & Wind Cave National Park     & National Park &  2787\\\\\n\t 1905 & 1163670 & POLYGON      & NA                                                     & 1 & Crater Lake   & PW & OR & CRLA & Crater Lake National Park   & National Park &  1400\\\\\n\t 1905 & 1609331 & POLYGON      & http://nrdata.nps.gov/programs/Lands/YELL\\_metadata.xml & 1 & Yellowstone   & IM & WY & YELL & Yellowstone National Park   & National Park & 26188\\\\\n\t 1905 & 255948  & MULTIPOLYGON & http://nrdata.nps.gov/programs/Lands/KICA\\_metadata.xml & 1 & Kings Canyon  & PW & CA & KICA & Kings Canyon National Park  & National Park &  1000\\\\\n\t 1905 & 1528416 & MULTIPOLYGON & http://nrdata.nps.gov/programs/Lands/MORA\\_metadata.xml & 1 & Mount Rainier & PW & WA & MORA & Mount Rainier National Park & National Park &   928\\\\\n\t 1905 & 1263056 & MULTIPOLYGON & http://nrdata.nps.gov/programs/Lands/WICA\\_metadata.xml & 1 & Wind Cave     & MW & SD & WICA & Wind Cave National Park     & National Park &  2438\\\\\n\\end{tabular}\n",
            "text/markdown": "\nA tibble: 6 × 12\n\n| year &lt;chr&gt; | gnis_id &lt;chr&gt; | geometry &lt;chr&gt; | metadata &lt;chr&gt; | number_of_records &lt;dbl&gt; | parkname &lt;chr&gt; | region &lt;chr&gt; | state &lt;chr&gt; | unit_code &lt;chr&gt; | unit_name &lt;chr&gt; | unit_type &lt;chr&gt; | visitors &lt;dbl&gt; |\n|---|---|---|---|---|---|---|---|---|---|---|---|\n| 1906 | 1263056 | MULTIPOLYGON | http://nrdata.nps.gov/programs/Lands/WICA_metadata.xml | 1 | Wind Cave     | MW | SD | WICA | Wind Cave National Park     | National Park |  2787 |\n| 1905 | 1163670 | POLYGON      | NA                                                     | 1 | Crater Lake   | PW | OR | CRLA | Crater Lake National Park   | National Park |  1400 |\n| 1905 | 1609331 | POLYGON      | http://nrdata.nps.gov/programs/Lands/YELL_metadata.xml | 1 | Yellowstone   | IM | WY | YELL | Yellowstone National Park   | National Park | 26188 |\n| 1905 | 255948  | MULTIPOLYGON | http://nrdata.nps.gov/programs/Lands/KICA_metadata.xml | 1 | Kings Canyon  | PW | CA | KICA | Kings Canyon National Park  | National Park |  1000 |\n| 1905 | 1528416 | MULTIPOLYGON | http://nrdata.nps.gov/programs/Lands/MORA_metadata.xml | 1 | Mount Rainier | PW | WA | MORA | Mount Rainier National Park | National Park |   928 |\n| 1905 | 1263056 | MULTIPOLYGON | http://nrdata.nps.gov/programs/Lands/WICA_metadata.xml | 1 | Wind Cave     | MW | SD | WICA | Wind Cave National Park     | National Park |  2438 |\n\n",
            "text/html": [
              "<table>\n",
              "<caption>A tibble: 6 × 12</caption>\n",
              "<thead>\n",
              "\t<tr><th scope=col>year</th><th scope=col>gnis_id</th><th scope=col>geometry</th><th scope=col>metadata</th><th scope=col>number_of_records</th><th scope=col>parkname</th><th scope=col>region</th><th scope=col>state</th><th scope=col>unit_code</th><th scope=col>unit_name</th><th scope=col>unit_type</th><th scope=col>visitors</th></tr>\n",
              "\t<tr><th scope=col>&lt;chr&gt;</th><th scope=col>&lt;chr&gt;</th><th scope=col>&lt;chr&gt;</th><th scope=col>&lt;chr&gt;</th><th scope=col>&lt;dbl&gt;</th><th scope=col>&lt;chr&gt;</th><th scope=col>&lt;chr&gt;</th><th scope=col>&lt;chr&gt;</th><th scope=col>&lt;chr&gt;</th><th scope=col>&lt;chr&gt;</th><th scope=col>&lt;chr&gt;</th><th scope=col>&lt;dbl&gt;</th></tr>\n",
              "</thead>\n",
              "<tbody>\n",
              "\t<tr><td>1906</td><td>1263056</td><td>MULTIPOLYGON</td><td>http://nrdata.nps.gov/programs/Lands/WICA_metadata.xml</td><td>1</td><td>Wind Cave    </td><td>MW</td><td>SD</td><td>WICA</td><td>Wind Cave National Park    </td><td>National Park</td><td> 2787</td></tr>\n",
              "\t<tr><td>1905</td><td>1163670</td><td>POLYGON     </td><td>NA                                                    </td><td>1</td><td>Crater Lake  </td><td>PW</td><td>OR</td><td>CRLA</td><td>Crater Lake National Park  </td><td>National Park</td><td> 1400</td></tr>\n",
              "\t<tr><td>1905</td><td>1609331</td><td>POLYGON     </td><td>http://nrdata.nps.gov/programs/Lands/YELL_metadata.xml</td><td>1</td><td>Yellowstone  </td><td>IM</td><td>WY</td><td>YELL</td><td>Yellowstone National Park  </td><td>National Park</td><td>26188</td></tr>\n",
              "\t<tr><td>1905</td><td>255948 </td><td>MULTIPOLYGON</td><td>http://nrdata.nps.gov/programs/Lands/KICA_metadata.xml</td><td>1</td><td>Kings Canyon </td><td>PW</td><td>CA</td><td>KICA</td><td>Kings Canyon National Park </td><td>National Park</td><td> 1000</td></tr>\n",
              "\t<tr><td>1905</td><td>1528416</td><td>MULTIPOLYGON</td><td>http://nrdata.nps.gov/programs/Lands/MORA_metadata.xml</td><td>1</td><td>Mount Rainier</td><td>PW</td><td>WA</td><td>MORA</td><td>Mount Rainier National Park</td><td>National Park</td><td>  928</td></tr>\n",
              "\t<tr><td>1905</td><td>1263056</td><td>MULTIPOLYGON</td><td>http://nrdata.nps.gov/programs/Lands/WICA_metadata.xml</td><td>1</td><td>Wind Cave    </td><td>MW</td><td>SD</td><td>WICA</td><td>Wind Cave National Park    </td><td>National Park</td><td> 2438</td></tr>\n",
              "</tbody>\n",
              "</table>\n"
            ]
          },
          "metadata": {
            "tags": []
          }
        }
      ]
    },
    {
      "cell_type": "code",
      "metadata": {
        "id": "t9bXNThfbdC1",
        "colab_type": "code",
        "colab": {
          "base_uri": "https://localhost:8080/",
          "height": 204
        },
        "outputId": "e9f2a183-2aa9-49eb-d058-77b25042c7b7"
      },
      "source": [
        "head(state_pop) #visualizando o início do dataset"
      ],
      "execution_count": 7,
      "outputs": [
        {
          "output_type": "display_data",
          "data": {
            "text/plain": [
              "  year state pop    \n",
              "1 1900 AL    1830000\n",
              "2 1901 AL    1907000\n",
              "3 1902 AL    1935000\n",
              "4 1903 AL    1957000\n",
              "5 1904 AL    1978000\n",
              "6 1905 AL    2012000"
            ],
            "text/latex": "A tibble: 6 × 3\n\\begin{tabular}{r|lll}\n year & state & pop\\\\\n <dbl> & <chr> & <dbl>\\\\\n\\hline\n\t 1900 & AL & 1830000\\\\\n\t 1901 & AL & 1907000\\\\\n\t 1902 & AL & 1935000\\\\\n\t 1903 & AL & 1957000\\\\\n\t 1904 & AL & 1978000\\\\\n\t 1905 & AL & 2012000\\\\\n\\end{tabular}\n",
            "text/markdown": "\nA tibble: 6 × 3\n\n| year &lt;dbl&gt; | state &lt;chr&gt; | pop &lt;dbl&gt; |\n|---|---|---|\n| 1900 | AL | 1830000 |\n| 1901 | AL | 1907000 |\n| 1902 | AL | 1935000 |\n| 1903 | AL | 1957000 |\n| 1904 | AL | 1978000 |\n| 1905 | AL | 2012000 |\n\n",
            "text/html": [
              "<table>\n",
              "<caption>A tibble: 6 × 3</caption>\n",
              "<thead>\n",
              "\t<tr><th scope=col>year</th><th scope=col>state</th><th scope=col>pop</th></tr>\n",
              "\t<tr><th scope=col>&lt;dbl&gt;</th><th scope=col>&lt;chr&gt;</th><th scope=col>&lt;dbl&gt;</th></tr>\n",
              "</thead>\n",
              "<tbody>\n",
              "\t<tr><td>1900</td><td>AL</td><td>1830000</td></tr>\n",
              "\t<tr><td>1901</td><td>AL</td><td>1907000</td></tr>\n",
              "\t<tr><td>1902</td><td>AL</td><td>1935000</td></tr>\n",
              "\t<tr><td>1903</td><td>AL</td><td>1957000</td></tr>\n",
              "\t<tr><td>1904</td><td>AL</td><td>1978000</td></tr>\n",
              "\t<tr><td>1905</td><td>AL</td><td>2012000</td></tr>\n",
              "</tbody>\n",
              "</table>\n"
            ]
          },
          "metadata": {
            "tags": []
          }
        }
      ]
    },
    {
      "cell_type": "code",
      "metadata": {
        "id": "cSFa9zUUbm61",
        "colab_type": "code",
        "colab": {
          "base_uri": "https://localhost:8080/",
          "height": 204
        },
        "outputId": "d7db0be5-c27b-4b57-95d2-6bd3ba96648e"
      },
      "source": [
        "head(gas_price) #visualizando o início do dataset"
      ],
      "execution_count": 8,
      "outputs": [
        {
          "output_type": "display_data",
          "data": {
            "text/plain": [
              "  year gas_current gas_constant\n",
              "1 1929 0.21        2.38        \n",
              "2 1930 0.20        2.30        \n",
              "3 1931 0.17        2.18        \n",
              "4 1932 0.18        2.61        \n",
              "5 1933 0.18        2.66        \n",
              "6 1934 0.19        2.67        "
            ],
            "text/latex": "A tibble: 6 × 3\n\\begin{tabular}{r|lll}\n year & gas\\_current & gas\\_constant\\\\\n <dbl> & <dbl> & <dbl>\\\\\n\\hline\n\t 1929 & 0.21 & 2.38\\\\\n\t 1930 & 0.20 & 2.30\\\\\n\t 1931 & 0.17 & 2.18\\\\\n\t 1932 & 0.18 & 2.61\\\\\n\t 1933 & 0.18 & 2.66\\\\\n\t 1934 & 0.19 & 2.67\\\\\n\\end{tabular}\n",
            "text/markdown": "\nA tibble: 6 × 3\n\n| year &lt;dbl&gt; | gas_current &lt;dbl&gt; | gas_constant &lt;dbl&gt; |\n|---|---|---|\n| 1929 | 0.21 | 2.38 |\n| 1930 | 0.20 | 2.30 |\n| 1931 | 0.17 | 2.18 |\n| 1932 | 0.18 | 2.61 |\n| 1933 | 0.18 | 2.66 |\n| 1934 | 0.19 | 2.67 |\n\n",
            "text/html": [
              "<table>\n",
              "<caption>A tibble: 6 × 3</caption>\n",
              "<thead>\n",
              "\t<tr><th scope=col>year</th><th scope=col>gas_current</th><th scope=col>gas_constant</th></tr>\n",
              "\t<tr><th scope=col>&lt;dbl&gt;</th><th scope=col>&lt;dbl&gt;</th><th scope=col>&lt;dbl&gt;</th></tr>\n",
              "</thead>\n",
              "<tbody>\n",
              "\t<tr><td>1929</td><td>0.21</td><td>2.38</td></tr>\n",
              "\t<tr><td>1930</td><td>0.20</td><td>2.30</td></tr>\n",
              "\t<tr><td>1931</td><td>0.17</td><td>2.18</td></tr>\n",
              "\t<tr><td>1932</td><td>0.18</td><td>2.61</td></tr>\n",
              "\t<tr><td>1933</td><td>0.18</td><td>2.66</td></tr>\n",
              "\t<tr><td>1934</td><td>0.19</td><td>2.67</td></tr>\n",
              "</tbody>\n",
              "</table>\n"
            ]
          },
          "metadata": {
            "tags": []
          }
        }
      ]
    },
    {
      "cell_type": "code",
      "metadata": {
        "id": "ricuj9ijfN4M",
        "colab_type": "code",
        "colab": {
          "base_uri": "https://localhost:8080/",
          "height": 53
        },
        "outputId": "9dbe0f20-9f30-4c53-aa64-630984e97ac4"
      },
      "source": [
        "install.packages(\"tidyverse\") #instalando o pacote Tidyverse"
      ],
      "execution_count": 12,
      "outputs": [
        {
          "output_type": "stream",
          "text": [
            "Installing package into ‘/usr/local/lib/R/site-library’\n",
            "(as ‘lib’ is unspecified)\n"
          ],
          "name": "stderr"
        }
      ]
    },
    {
      "cell_type": "code",
      "metadata": {
        "id": "1FTLjKlYfdcD",
        "colab_type": "code",
        "colab": {
          "base_uri": "https://localhost:8080/",
          "height": 233
        },
        "outputId": "84453dbc-06f7-4141-8c89-85a8c58c5a2a"
      },
      "source": [
        "require(tidyverse) #carregando o pacote Tidyverse\n",
        "require(scales) #carregando o pacote 'scales' para definir a escala do gráfico"
      ],
      "execution_count": 78,
      "outputs": [
        {
          "output_type": "stream",
          "text": [
            "Loading required package: scales\n",
            "\n",
            "Attaching package: ‘scales’\n",
            "\n",
            "The following object is masked from ‘package:purrr’:\n",
            "\n",
            "    discard\n",
            "\n",
            "The following object is masked from ‘package:readr’:\n",
            "\n",
            "    col_factor\n",
            "\n"
          ],
          "name": "stderr"
        }
      ]
    },
    {
      "cell_type": "markdown",
      "metadata": {
        "id": "P6zYqPiwgEqy",
        "colab_type": "text"
      },
      "source": [
        "## Criando um gráfico para mostrar o número de visitas por ano\n",
        "\n"
      ]
    },
    {
      "cell_type": "markdown",
      "metadata": {
        "id": "WOjO2AashyHI",
        "colab_type": "text"
      },
      "source": [
        "#### Primeiro precisamos selecionar as variáveis de interesse. Para isso, vamos selecionar as var. \"year\" e \"visitors\"; depois iremos somar o num de visitantes por ano."
      ]
    },
    {
      "cell_type": "code",
      "metadata": {
        "id": "Skj54TyefiI_",
        "colab_type": "code",
        "colab": {}
      },
      "source": [
        "visitors_year <- park_visits %>%\n",
        "  select(year, visitors) %>%\n",
        "  group_by(year) %>%\n",
        "  summarise(total_visit = sum(visitors, na.rm = TRUE))"
      ],
      "execution_count": 0,
      "outputs": []
    },
    {
      "cell_type": "code",
      "metadata": {
        "id": "KJR7Oy-ehjtH",
        "colab_type": "code",
        "colab": {
          "base_uri": "https://localhost:8080/",
          "height": 204
        },
        "outputId": "db9a0bbf-4897-43f5-a312-6823f98d25da"
      },
      "source": [
        "tail(visitors_year)"
      ],
      "execution_count": 31,
      "outputs": [
        {
          "output_type": "display_data",
          "data": {
            "text/plain": [
              "  year  total_visit\n",
              "1 2012    281392715\n",
              "2 2013    271305455\n",
              "3 2014    290105230\n",
              "4 2015    304730566\n",
              "5 2016    328483428\n",
              "6 Total 13764633135"
            ],
            "text/latex": "A tibble: 6 × 2\n\\begin{tabular}{r|ll}\n year & total\\_visit\\\\\n <chr> & <dbl>\\\\\n\\hline\n\t 2012  &   281392715\\\\\n\t 2013  &   271305455\\\\\n\t 2014  &   290105230\\\\\n\t 2015  &   304730566\\\\\n\t 2016  &   328483428\\\\\n\t Total & 13764633135\\\\\n\\end{tabular}\n",
            "text/markdown": "\nA tibble: 6 × 2\n\n| year &lt;chr&gt; | total_visit &lt;dbl&gt; |\n|---|---|\n| 2012  |   281392715 |\n| 2013  |   271305455 |\n| 2014  |   290105230 |\n| 2015  |   304730566 |\n| 2016  |   328483428 |\n| Total | 13764633135 |\n\n",
            "text/html": [
              "<table>\n",
              "<caption>A tibble: 6 × 2</caption>\n",
              "<thead>\n",
              "\t<tr><th scope=col>year</th><th scope=col>total_visit</th></tr>\n",
              "\t<tr><th scope=col>&lt;chr&gt;</th><th scope=col>&lt;dbl&gt;</th></tr>\n",
              "</thead>\n",
              "<tbody>\n",
              "\t<tr><td>2012 </td><td>  281392715</td></tr>\n",
              "\t<tr><td>2013 </td><td>  271305455</td></tr>\n",
              "\t<tr><td>2014 </td><td>  290105230</td></tr>\n",
              "\t<tr><td>2015 </td><td>  304730566</td></tr>\n",
              "\t<tr><td>2016 </td><td>  328483428</td></tr>\n",
              "\t<tr><td>Total</td><td>13764633135</td></tr>\n",
              "</tbody>\n",
              "</table>\n"
            ]
          },
          "metadata": {
            "tags": []
          }
        }
      ]
    },
    {
      "cell_type": "code",
      "metadata": {
        "id": "r07dWMXhkLJ8",
        "colab_type": "code",
        "colab": {
          "base_uri": "https://localhost:8080/",
          "height": 89
        },
        "outputId": "d57bd385-0771-4bab-9556-45dd5e540746"
      },
      "source": [
        "glimpse(visitors_year) #visualizando o tipo das variáveis"
      ],
      "execution_count": 24,
      "outputs": [
        {
          "output_type": "stream",
          "text": [
            "Observations: 114\n",
            "Variables: 2\n",
            "$ year        \u001b[3m\u001b[90m<chr>\u001b[39m\u001b[23m \"1904\", \"1905\", \"1906\", \"1907\", \"1908\", \"1909\", \"1910\", \"…\n",
            "$ total_visit \u001b[3m\u001b[90m<dbl>\u001b[39m\u001b[23m 120690, 140954, 30569, 32935, 42768, 60899, 173416, 19420…\n"
          ],
          "name": "stdout"
        }
      ]
    },
    {
      "cell_type": "markdown",
      "metadata": {
        "id": "DFN5oaxrim8J",
        "colab_type": "text"
      },
      "source": [
        "#### Agora iremos plotar o gráfico, a partir do novo dataset \"visitors_year\":"
      ]
    },
    {
      "cell_type": "code",
      "metadata": {
        "id": "0Z7f-Wo4k4P6",
        "colab_type": "code",
        "colab": {}
      },
      "source": [
        "visitors_year <- visitors_year %>% ungroup()"
      ],
      "execution_count": 0,
      "outputs": []
    },
    {
      "cell_type": "code",
      "metadata": {
        "id": "waetnjZFikc9",
        "colab_type": "code",
        "colab": {
          "base_uri": "https://localhost:8080/",
          "height": 857
        },
        "outputId": "af7093d7-90bc-42bf-cc5f-b115041e8b99"
      },
      "source": [
        "ggplot(visitors_year, aes(x = year, y = total_visit)) +\n",
        "  geom_point()"
      ],
      "execution_count": 30,
      "outputs": [
        {
          "output_type": "display_data",
          "data": {
            "image/png": "[encoded data removed]",
            "text/plain": [
              "plot without title"
            ]
          },
          "metadata": {
            "tags": []
          }
        }
      ]
    },
    {
      "cell_type": "markdown",
      "metadata": {
        "id": "sXl5Tl17mKqk",
        "colab_type": "text"
      },
      "source": [
        "#### Pode-se notar que existe alguma coisa estranha. Tem uma informação que é muito discrepante da massa de dados. Para isso, precisamos invertigar o porquê isso acontece. A suspeita aqui é que existe uma linha com o \"Total\"."
      ]
    },
    {
      "cell_type": "code",
      "metadata": {
        "id": "wUNIeUH3jPG_",
        "colab_type": "code",
        "colab": {
          "base_uri": "https://localhost:8080/",
          "height": 1000
        },
        "outputId": "bb457c4e-8dd3-4124-8be5-7288d8d9c988"
      },
      "source": [
        "unique(park_visits$year) #mostra cada observação sem repetição. Aqui é possível observar que realmente existe essa observação \"Total\"."
      ],
      "execution_count": 134,
      "outputs": [
        {
          "output_type": "display_data",
          "data": {
            "text/plain": [
              "  [1] \"1904\"  \"1941\"  \"1961\"  \"1935\"  \"1982\"  \"1919\"  \"1969\"  \"1967\"  \"1944\" \n",
              " [10] \"1989\"  \"1988\"  \"1993\"  \"1955\"  \"1976\"  \"1980\"  \"1934\"  \"1951\"  \"1925\" \n",
              " [19] \"1948\"  \"1931\"  \"1940\"  \"1971\"  \"1979\"  \"2011\"  \"2004\"  \"1968\"  \"1984\" \n",
              " [28] \"1987\"  \"1985\"  \"1973\"  \"1936\"  \"1992\"  \"1920\"  \"1991\"  \"1957\"  \"1964\" \n",
              " [37] \"1937\"  \"1966\"  \"1974\"  \"1995\"  \"1962\"  \"1929\"  \"1997\"  \"1950\"  \"1942\" \n",
              " [46] \"1956\"  \"1972\"  \"1970\"  \"2000\"  \"1933\"  \"1924\"  \"1921\"  \"2010\"  \"1978\" \n",
              " [55] \"1975\"  \"1906\"  \"1996\"  \"2003\"  \"2006\"  \"1947\"  \"2002\"  \"1908\"  \"1965\" \n",
              " [64] \"1939\"  \"1960\"  \"1938\"  \"1963\"  \"2001\"  \"1954\"  \"1958\"  \"2013\"  \"1981\" \n",
              " [73] \"1952\"  \"1923\"  \"1983\"  \"2016\"  \"1998\"  \"2007\"  \"2015\"  \"1915\"  \"1911\" \n",
              " [82] \"1917\"  \"Total\" \"1930\"  \"1932\"  \"1922\"  \"1926\"  \"1986\"  \"1990\"  \"2014\" \n",
              " [91] \"1994\"  \"2012\"  \"1977\"  \"2009\"  \"2008\"  \"2005\"  \"1999\"  \"1959\"  \"1946\" \n",
              "[100] \"1945\"  \"1953\"  \"1943\"  \"1949\"  \"1928\"  \"1927\"  \"1918\"  \"1916\"  \"1914\" \n",
              "[109] \"1913\"  \"1912\"  \"1910\"  \"1909\"  \"1905\"  \"1907\" "
            ],
            "text/latex": "\\begin{enumerate*}\n\\item '1904'\n\\item '1941'\n\\item '1961'\n\\item '1935'\n\\item '1982'\n\\item '1919'\n\\item '1969'\n\\item '1967'\n\\item '1944'\n\\item '1989'\n\\item '1988'\n\\item '1993'\n\\item '1955'\n\\item '1976'\n\\item '1980'\n\\item '1934'\n\\item '1951'\n\\item '1925'\n\\item '1948'\n\\item '1931'\n\\item '1940'\n\\item '1971'\n\\item '1979'\n\\item '2011'\n\\item '2004'\n\\item '1968'\n\\item '1984'\n\\item '1987'\n\\item '1985'\n\\item '1973'\n\\item '1936'\n\\item '1992'\n\\item '1920'\n\\item '1991'\n\\item '1957'\n\\item '1964'\n\\item '1937'\n\\item '1966'\n\\item '1974'\n\\item '1995'\n\\item '1962'\n\\item '1929'\n\\item '1997'\n\\item '1950'\n\\item '1942'\n\\item '1956'\n\\item '1972'\n\\item '1970'\n\\item '2000'\n\\item '1933'\n\\item '1924'\n\\item '1921'\n\\item '2010'\n\\item '1978'\n\\item '1975'\n\\item '1906'\n\\item '1996'\n\\item '2003'\n\\item '2006'\n\\item '1947'\n\\item '2002'\n\\item '1908'\n\\item '1965'\n\\item '1939'\n\\item '1960'\n\\item '1938'\n\\item '1963'\n\\item '2001'\n\\item '1954'\n\\item '1958'\n\\item '2013'\n\\item '1981'\n\\item '1952'\n\\item '1923'\n\\item '1983'\n\\item '2016'\n\\item '1998'\n\\item '2007'\n\\item '2015'\n\\item '1915'\n\\item '1911'\n\\item '1917'\n\\item 'Total'\n\\item '1930'\n\\item '1932'\n\\item '1922'\n\\item '1926'\n\\item '1986'\n\\item '1990'\n\\item '2014'\n\\item '1994'\n\\item '2012'\n\\item '1977'\n\\item '2009'\n\\item '2008'\n\\item '2005'\n\\item '1999'\n\\item '1959'\n\\item '1946'\n\\item '1945'\n\\item '1953'\n\\item '1943'\n\\item '1949'\n\\item '1928'\n\\item '1927'\n\\item '1918'\n\\item '1916'\n\\item '1914'\n\\item '1913'\n\\item '1912'\n\\item '1910'\n\\item '1909'\n\\item '1905'\n\\item '1907'\n\\end{enumerate*}\n",
            "text/markdown": "1. '1904'\n2. '1941'\n3. '1961'\n4. '1935'\n5. '1982'\n6. '1919'\n7. '1969'\n8. '1967'\n9. '1944'\n10. '1989'\n11. '1988'\n12. '1993'\n13. '1955'\n14. '1976'\n15. '1980'\n16. '1934'\n17. '1951'\n18. '1925'\n19. '1948'\n20. '1931'\n21. '1940'\n22. '1971'\n23. '1979'\n24. '2011'\n25. '2004'\n26. '1968'\n27. '1984'\n28. '1987'\n29. '1985'\n30. '1973'\n31. '1936'\n32. '1992'\n33. '1920'\n34. '1991'\n35. '1957'\n36. '1964'\n37. '1937'\n38. '1966'\n39. '1974'\n40. '1995'\n41. '1962'\n42. '1929'\n43. '1997'\n44. '1950'\n45. '1942'\n46. '1956'\n47. '1972'\n48. '1970'\n49. '2000'\n50. '1933'\n51. '1924'\n52. '1921'\n53. '2010'\n54. '1978'\n55. '1975'\n56. '1906'\n57. '1996'\n58. '2003'\n59. '2006'\n60. '1947'\n61. '2002'\n62. '1908'\n63. '1965'\n64. '1939'\n65. '1960'\n66. '1938'\n67. '1963'\n68. '2001'\n69. '1954'\n70. '1958'\n71. '2013'\n72. '1981'\n73. '1952'\n74. '1923'\n75. '1983'\n76. '2016'\n77. '1998'\n78. '2007'\n79. '2015'\n80. '1915'\n81. '1911'\n82. '1917'\n83. 'Total'\n84. '1930'\n85. '1932'\n86. '1922'\n87. '1926'\n88. '1986'\n89. '1990'\n90. '2014'\n91. '1994'\n92. '2012'\n93. '1977'\n94. '2009'\n95. '2008'\n96. '2005'\n97. '1999'\n98. '1959'\n99. '1946'\n100. '1945'\n101. '1953'\n102. '1943'\n103. '1949'\n104. '1928'\n105. '1927'\n106. '1918'\n107. '1916'\n108. '1914'\n109. '1913'\n110. '1912'\n111. '1910'\n112. '1909'\n113. '1905'\n114. '1907'\n\n\n",
            "text/html": [
              "<ol class=list-inline>\n",
              "\t<li>'1904'</li>\n",
              "\t<li>'1941'</li>\n",
              "\t<li>'1961'</li>\n",
              "\t<li>'1935'</li>\n",
              "\t<li>'1982'</li>\n",
              "\t<li>'1919'</li>\n",
              "\t<li>'1969'</li>\n",
              "\t<li>'1967'</li>\n",
              "\t<li>'1944'</li>\n",
              "\t<li>'1989'</li>\n",
              "\t<li>'1988'</li>\n",
              "\t<li>'1993'</li>\n",
              "\t<li>'1955'</li>\n",
              "\t<li>'1976'</li>\n",
              "\t<li>'1980'</li>\n",
              "\t<li>'1934'</li>\n",
              "\t<li>'1951'</li>\n",
              "\t<li>'1925'</li>\n",
              "\t<li>'1948'</li>\n",
              "\t<li>'1931'</li>\n",
              "\t<li>'1940'</li>\n",
              "\t<li>'1971'</li>\n",
              "\t<li>'1979'</li>\n",
              "\t<li>'2011'</li>\n",
              "\t<li>'2004'</li>\n",
              "\t<li>'1968'</li>\n",
              "\t<li>'1984'</li>\n",
              "\t<li>'1987'</li>\n",
              "\t<li>'1985'</li>\n",
              "\t<li>'1973'</li>\n",
              "\t<li>'1936'</li>\n",
              "\t<li>'1992'</li>\n",
              "\t<li>'1920'</li>\n",
              "\t<li>'1991'</li>\n",
              "\t<li>'1957'</li>\n",
              "\t<li>'1964'</li>\n",
              "\t<li>'1937'</li>\n",
              "\t<li>'1966'</li>\n",
              "\t<li>'1974'</li>\n",
              "\t<li>'1995'</li>\n",
              "\t<li>'1962'</li>\n",
              "\t<li>'1929'</li>\n",
              "\t<li>'1997'</li>\n",
              "\t<li>'1950'</li>\n",
              "\t<li>'1942'</li>\n",
              "\t<li>'1956'</li>\n",
              "\t<li>'1972'</li>\n",
              "\t<li>'1970'</li>\n",
              "\t<li>'2000'</li>\n",
              "\t<li>'1933'</li>\n",
              "\t<li>'1924'</li>\n",
              "\t<li>'1921'</li>\n",
              "\t<li>'2010'</li>\n",
              "\t<li>'1978'</li>\n",
              "\t<li>'1975'</li>\n",
              "\t<li>'1906'</li>\n",
              "\t<li>'1996'</li>\n",
              "\t<li>'2003'</li>\n",
              "\t<li>'2006'</li>\n",
              "\t<li>'1947'</li>\n",
              "\t<li>'2002'</li>\n",
              "\t<li>'1908'</li>\n",
              "\t<li>'1965'</li>\n",
              "\t<li>'1939'</li>\n",
              "\t<li>'1960'</li>\n",
              "\t<li>'1938'</li>\n",
              "\t<li>'1963'</li>\n",
              "\t<li>'2001'</li>\n",
              "\t<li>'1954'</li>\n",
              "\t<li>'1958'</li>\n",
              "\t<li>'2013'</li>\n",
              "\t<li>'1981'</li>\n",
              "\t<li>'1952'</li>\n",
              "\t<li>'1923'</li>\n",
              "\t<li>'1983'</li>\n",
              "\t<li>'2016'</li>\n",
              "\t<li>'1998'</li>\n",
              "\t<li>'2007'</li>\n",
              "\t<li>'2015'</li>\n",
              "\t<li>'1915'</li>\n",
              "\t<li>'1911'</li>\n",
              "\t<li>'1917'</li>\n",
              "\t<li>'Total'</li>\n",
              "\t<li>'1930'</li>\n",
              "\t<li>'1932'</li>\n",
              "\t<li>'1922'</li>\n",
              "\t<li>'1926'</li>\n",
              "\t<li>'1986'</li>\n",
              "\t<li>'1990'</li>\n",
              "\t<li>'2014'</li>\n",
              "\t<li>'1994'</li>\n",
              "\t<li>'2012'</li>\n",
              "\t<li>'1977'</li>\n",
              "\t<li>'2009'</li>\n",
              "\t<li>'2008'</li>\n",
              "\t<li>'2005'</li>\n",
              "\t<li>'1999'</li>\n",
              "\t<li>'1959'</li>\n",
              "\t<li>'1946'</li>\n",
              "\t<li>'1945'</li>\n",
              "\t<li>'1953'</li>\n",
              "\t<li>'1943'</li>\n",
              "\t<li>'1949'</li>\n",
              "\t<li>'1928'</li>\n",
              "\t<li>'1927'</li>\n",
              "\t<li>'1918'</li>\n",
              "\t<li>'1916'</li>\n",
              "\t<li>'1914'</li>\n",
              "\t<li>'1913'</li>\n",
              "\t<li>'1912'</li>\n",
              "\t<li>'1910'</li>\n",
              "\t<li>'1909'</li>\n",
              "\t<li>'1905'</li>\n",
              "\t<li>'1907'</li>\n",
              "</ol>\n"
            ]
          },
          "metadata": {
            "tags": []
          }
        }
      ]
    },
    {
      "cell_type": "markdown",
      "metadata": {
        "id": "jTHUdSvxCWQC",
        "colab_type": "text"
      },
      "source": [
        "#### Retirando do banco a observação \"Total\":"
      ]
    },
    {
      "cell_type": "code",
      "metadata": {
        "id": "n9SFZxBpmvfp",
        "colab_type": "code",
        "colab": {}
      },
      "source": [
        "visitors_year <- park_visits %>%\n",
        "  select(year, visitors) %>%\n",
        "  filter(year != \"Total\") %>%\n",
        "  group_by(year) %>%\n",
        "  summarise(total_visit = sum(visitors, na.rm = TRUE))"
      ],
      "execution_count": 0,
      "outputs": []
    },
    {
      "cell_type": "code",
      "metadata": {
        "id": "MvkSROP-n-lY",
        "colab_type": "code",
        "colab": {
          "base_uri": "https://localhost:8080/",
          "height": 204
        },
        "outputId": "6feedbb3-0513-43a8-f569-9dd2fae8c4e5"
      },
      "source": [
        "tail(visitors_year)"
      ],
      "execution_count": 41,
      "outputs": [
        {
          "output_type": "display_data",
          "data": {
            "text/plain": [
              "  year total_visit\n",
              "1 2011 276799292  \n",
              "2 2012 281392715  \n",
              "3 2013 271305455  \n",
              "4 2014 290105230  \n",
              "5 2015 304730566  \n",
              "6 2016 328483428  "
            ],
            "text/latex": "A tibble: 6 × 2\n\\begin{tabular}{r|ll}\n year & total\\_visit\\\\\n <chr> & <dbl>\\\\\n\\hline\n\t 2011 & 276799292\\\\\n\t 2012 & 281392715\\\\\n\t 2013 & 271305455\\\\\n\t 2014 & 290105230\\\\\n\t 2015 & 304730566\\\\\n\t 2016 & 328483428\\\\\n\\end{tabular}\n",
            "text/markdown": "\nA tibble: 6 × 2\n\n| year &lt;chr&gt; | total_visit &lt;dbl&gt; |\n|---|---|\n| 2011 | 276799292 |\n| 2012 | 281392715 |\n| 2013 | 271305455 |\n| 2014 | 290105230 |\n| 2015 | 304730566 |\n| 2016 | 328483428 |\n\n",
            "text/html": [
              "<table>\n",
              "<caption>A tibble: 6 × 2</caption>\n",
              "<thead>\n",
              "\t<tr><th scope=col>year</th><th scope=col>total_visit</th></tr>\n",
              "\t<tr><th scope=col>&lt;chr&gt;</th><th scope=col>&lt;dbl&gt;</th></tr>\n",
              "</thead>\n",
              "<tbody>\n",
              "\t<tr><td>2011</td><td>276799292</td></tr>\n",
              "\t<tr><td>2012</td><td>281392715</td></tr>\n",
              "\t<tr><td>2013</td><td>271305455</td></tr>\n",
              "\t<tr><td>2014</td><td>290105230</td></tr>\n",
              "\t<tr><td>2015</td><td>304730566</td></tr>\n",
              "\t<tr><td>2016</td><td>328483428</td></tr>\n",
              "</tbody>\n",
              "</table>\n"
            ]
          },
          "metadata": {
            "tags": []
          }
        }
      ]
    },
    {
      "cell_type": "markdown",
      "metadata": {
        "id": "3XVdDCnfCtWy",
        "colab_type": "text"
      },
      "source": [
        "#### Com o dataset que iremos usar pronto, vamos criar algumas var. necessárias para usar no comando do gráfico:"
      ]
    },
    {
      "cell_type": "code",
      "metadata": {
        "id": "QvtGS_xztwI-",
        "colab_type": "code",
        "colab": {}
      },
      "source": [
        "breaks <- seq(1910, 2010, by = 10) #criando uma sequência para montar os ticks do eixo x\n",
        "labels <- c(\"1910\", \"'20\", \"'30\", \"'40\", \"'50\", \"'60\", \"'70\", \"'80\", \"'90\", \"2000\", \"'10\") #montando manualmente os ticks do eixo x"
      ],
      "execution_count": 0,
      "outputs": []
    },
    {
      "cell_type": "code",
      "metadata": {
        "id": "QNP8N7ryyKMo",
        "colab_type": "code",
        "colab": {}
      },
      "source": [
        "breaks_y <- seq(0, max(visitors_year$total_visit), by = 50e+6) #criando uma sequência para montar os ticks do eixo y\n",
        "labels_y <- unit_format(unit = \"M\",scale = 1e-6)(breaks_y) #montando os ticks do eixo y"
      ],
      "execution_count": 0,
      "outputs": []
    },
    {
      "cell_type": "markdown",
      "metadata": {
        "id": "ueTYIm_AC84k",
        "colab_type": "text"
      },
      "source": [
        "## Plotando o Gráfico"
      ]
    },
    {
      "cell_type": "code",
      "metadata": {
        "id": "T2HNC-dfoXDl",
        "colab_type": "code",
        "colab": {
          "base_uri": "https://localhost:8080/",
          "height": 857
        },
        "outputId": "af0e75d6-4ab2-461b-edcc-9f1c25349ef7"
      },
      "source": [
        " ggplot(visitors_year, aes(x = year, y = total_visit, group = 1)) + #definindo o dataset e as var. de cada eixo (x,y)\n",
        "  geom_area(color = \"green4\", fill = \"green4\", alpha = 0.4) + #gráfico com preenchimento de áerea\n",
        "  scale_x_discrete(breaks = breaks, labels = labels) + #definindo os ticks do eixo x\n",
        "  scale_y_continuous(breaks = breaks_y, labels = labels_y) + #definindo os ticks do eixo y\n",
        "  labs(title = \"U.S. national parks have never been so popular\", \n",
        "       subtitle = \"Annual recreational visits to national parks since 1904\") + #escrevendo o título e subt-título\n",
        "  theme(axis.title.x = element_blank(), axis.title.y = element_blank()) #retirando o título de cada eixo\n",
        "  "
      ],
      "execution_count": 136,
      "outputs": [
        {
          "output_type": "display_data",
          "data": {
            "image/png": "[encoded data removed]",
            "text/plain": [
              "plot without title"
            ]
          },
          "metadata": {
            "tags": []
          }
        }
      ]
    },
    {
      "cell_type": "code",
      "metadata": {
        "id": "xwrmJc_h27K5",
        "colab_type": "code",
        "colab": {}
      },
      "source": [
        ""
      ],
      "execution_count": 0,
      "outputs": []
    }
  ]
}